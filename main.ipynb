{
 "cells": [
  {
   "cell_type": "code",
<<<<<<< Updated upstream
   "execution_count": null,
=======
   "execution_count": 81,
>>>>>>> Stashed changes
   "metadata": {},
   "outputs": [],
   "source": [
    "import pandas as pd\n",
    "import seaborn as sns\n",
    "import seaborn.objects as so\n",
    "import datetime as dt\n",
<<<<<<< Updated upstream
    "import matplotlib.pyplot as plt\n",
    "from sklearn import linear_model\n",
    "from sklearn.metrics import mean_squared_error, r2_score, mean_absolute_error\n",
    "from sklearn.model_selection import train_test_split, KFold, cross_val_score\n",
    "from matplotlib.ticker import FuncFormatter\n",
    "from formulaic import model_matrix, Formula\n",
    "import numpy as np"
=======
    "import numpy as np\n",
    "import matplotlib.pyplot as plt\n",
    "import os"
>>>>>>> Stashed changes
   ]
  },
  {
   "cell_type": "markdown",
   "metadata": {},
   "source": [
    "## Procesamiento de datos"
   ]
  },
  {
   "cell_type": "code",
<<<<<<< Updated upstream
   "execution_count": null,
=======
   "execution_count": 6,
>>>>>>> Stashed changes
   "metadata": {},
   "outputs": [],
   "source": [
    "ruta_datasets = 'data/'"
   ]
  },
  {
   "cell_type": "code",
   "execution_count": null,
   "metadata": {},
   "outputs": [],
   "source": [
    "dataset_sube20 = pd.read_csv(ruta_datasets+'dat-ab-usos-2020.csv')\n",
    "dataset_sube21 = pd.read_csv(ruta_datasets+'dat-ab-usos-2021.csv')\n",
    "dataset_sube22 = pd.read_csv(ruta_datasets+'dat-ab-usos-2022.csv')\n",
    "dataset_sube = pd.read_csv(ruta_datasets+'sube-2023.csv')\n",
    "dataset_sube_regresion = pd.read_csv(ruta_datasets+'sube-2023-regresion.csv')\n",
    "poblacion_provincias = pd.read_excel(ruta_datasets+'poblacion_provincias.xlsx')\n",
    "superficie_provincias = pd.read_excel(ruta_datasets+'superficie_provincias.xlsx')"
   ]
  },
  {
   "cell_type": "code",
   "execution_count": null,
   "metadata": {},
   "outputs": [],
   "source": [
    "df_concatenado = pd.concat([dataset_sube20,dataset_sube21,dataset_sube22,dataset_sube])"
   ]
  },
  {
   "cell_type": "markdown",
   "metadata": {},
   "source": [
    "### Ejercicio 1"
   ]
  },
  {
   "cell_type": "markdown",
   "metadata": {},
   "source": [
    "#### a)"
   ]
  },
  {
   "cell_type": "markdown",
   "metadata": {},
   "source": [
    "Describimos el dataset"
   ]
  },
  {
   "cell_type": "code",
<<<<<<< Updated upstream
   "execution_count": null,
   "metadata": {},
   "outputs": [],
   "source": [
    "dataset_sube.info()"
   ]
  },
  {
   "cell_type": "markdown",
   "metadata": {},
   "source": [
    "Transformamos la columna dia_transporte a datetime"
   ]
  },
  {
   "cell_type": "code",
   "execution_count": null,
=======
   "execution_count": 7,
>>>>>>> Stashed changes
   "metadata": {},
   "outputs": [],
   "source": [
    "dataset_sube['DIA_TRANSPORTE'] = pd.to_datetime(dataset_sube['DIA_TRANSPORTE'], format='%Y-%m-%d')"
   ]
  },
  {
   "cell_type": "markdown",
   "metadata": {},
   "source": [
    "#### b)"
   ]
  },
  {
   "cell_type": "markdown",
   "metadata": {},
   "source": [
    "##### i."
   ]
  },
  {
   "cell_type": "markdown",
   "metadata": {},
   "source": [
    "Creamos la columna fecha_dia con el nombre del día de la semana"
   ]
  },
  {
   "cell_type": "code",
   "execution_count": null,
   "metadata": {},
   "outputs": [],
   "source": [
    "dias = ['Lunes', 'Martes', 'Miércoles', 'Jueves', 'Viernes', 'Sábado', 'Domingo']\n",
    "def obtener_nombre_dia(fecha_dia):\n",
    "    return dias[fecha_dia.weekday()]"
   ]
  },
  {
   "cell_type": "code",
   "execution_count": null,
   "metadata": {},
   "outputs": [],
   "source": [
    "dataset_sube['FECHA_DIA'] = dataset_sube['DIA_TRANSPORTE'].apply(obtener_nombre_dia)"
   ]
  },
  {
   "cell_type": "markdown",
   "metadata": {},
   "source": [
    "##### ii."
   ]
  },
  {
   "cell_type": "markdown",
   "metadata": {},
   "source": [
    "Creamos la columna fecha_ordinal donde asignamos el numero de día del año a cada fecha"
   ]
  },
  {
   "cell_type": "code",
<<<<<<< Updated upstream
   "execution_count": null,
=======
   "execution_count": 10,
>>>>>>> Stashed changes
   "metadata": {},
   "outputs": [],
   "source": [
    "dataset_sube['FECHA_ORDINAL'] = dataset_sube['DIA_TRANSPORTE'].dt.day_of_year"
   ]
  },
  {
   "cell_type": "markdown",
   "metadata": {},
   "source": [
    "##### iii."
   ]
  },
  {
   "cell_type": "markdown",
   "metadata": {},
   "source": [
    "Creamos la columna fecha_mes con el numero de mes para cada fecha"
   ]
  },
  {
   "cell_type": "code",
   "execution_count": null,
   "metadata": {},
   "outputs": [],
   "source": [
    "dataset_sube['FECHA_MES'] = dataset_sube['DIA_TRANSPORTE'].dt.month"
   ]
  },
  {
   "cell_type": "markdown",
   "metadata": {},
   "source": [
    "### Ejercicio 2"
   ]
  },
  {
   "cell_type": "markdown",
   "metadata": {},
   "source": [
    "Creamos un dataframe que contiene solo los datos del AMBA y elimina los datos preliminares"
   ]
  },
  {
   "cell_type": "code",
   "execution_count": null,
   "metadata": {},
   "outputs": [],
   "source": [
    "datos_amba = dataset_sube[dataset_sube['AMBA']=='SI']\n",
    "datos_amba = datos_amba[datos_amba['DATO_PRELIMINAR']=='NO']"
   ]
  },
  {
   "cell_type": "markdown",
   "metadata": {},
   "source": [
    "Acomodamos el orden de las columnas y les corregimos el formato del nombre"
   ]
  },
  {
   "cell_type": "code",
   "execution_count": null,
   "metadata": {},
   "outputs": [],
   "source": [
    "datos_amba = datos_amba[['DIA_TRANSPORTE', 'FECHA_DIA', 'FECHA_MES','FECHA_ORDINAL', 'JURISDICCION', 'LINEA','CANTIDAD', 'TIPO_TRANSPORTE']]"
   ]
  },
  {
   "cell_type": "code",
   "execution_count": null,
   "metadata": {},
   "outputs": [],
   "source": [
    "datos_amba = datos_amba.rename(columns={\"DIA_TRANSPORTE\": \"fecha\", \"FECHA_DIA\": \"fecha_dia\",\"FECHA_MES\" : \"fecha_mes\", \"FECHA_ORDINAL\":\"fecha_ordinal\",\"JURISDICCION\": \"jurisdiccion\", \"LINEA\":'linea',\"CANTIDAD\":\"pasajeros\", \"TIPO_TRANSPORTE\": \"tipo_transporte\"})"
   ]
  },
  {
   "cell_type": "markdown",
   "metadata": {},
   "source": [
    "Resultado final:"
   ]
  },
  {
   "cell_type": "code",
   "execution_count": null,
   "metadata": {},
   "outputs": [],
   "source": [
    "datos_amba.head()"
   ]
  },
  {
   "cell_type": "markdown",
   "metadata": {},
   "source": [
    "### Ejercicio 3"
   ]
  },
  {
   "cell_type": "markdown",
   "metadata": {},
   "source": [
    "#### a)"
   ]
  },
  {
   "cell_type": "markdown",
   "metadata": {},
   "source": [
    "Calculamos la proporcion de pasajeros por transporte en 2023"
   ]
  },
  {
   "cell_type": "code",
   "execution_count": null,
   "metadata": {},
   "outputs": [],
   "source": [
    "pasajeros_totales = sum(datos_amba['pasajeros'])"
   ]
  },
  {
   "cell_type": "code",
   "execution_count": null,
   "metadata": {},
   "outputs": [],
   "source": [
    "pasajeros_por_transporte = datos_amba.groupby('tipo_transporte')['pasajeros'].sum()"
   ]
  },
  {
   "cell_type": "code",
   "execution_count": null,
   "metadata": {},
   "outputs": [],
   "source": [
    "proporcion_pasajeros = ((pasajeros_por_transporte/pasajeros_totales)*100).round(1)\n",
    "proporcion_pasajeros = proporcion_pasajeros.map(lambda x: f\"{x}%\")\n",
    "proporcion_pasajeros"
   ]
  },
  {
   "cell_type": "markdown",
   "metadata": {},
   "source": [
    "#### b)"
   ]
  },
  {
   "cell_type": "markdown",
   "metadata": {},
   "source": [
    "Creamos un dataset con los datos del Subte, agrupamos por mes y linea, y obtenemos el valor maximo"
   ]
  },
  {
   "cell_type": "code",
   "execution_count": null,
   "metadata": {},
   "outputs": [],
   "source": [
    "datos_subte = datos_amba[datos_amba['tipo_transporte'] == 'SUBTE']\n",
    "datos_subte = datos_subte[['fecha_mes','linea','pasajeros']]"
   ]
  },
  {
   "cell_type": "code",
   "execution_count": null,
   "metadata": {},
   "outputs": [],
   "source": [
    "datos_subte_mesLinea = datos_subte.groupby(['fecha_mes','linea'])['pasajeros'].sum()"
   ]
  },
  {
   "cell_type": "code",
   "execution_count": null,
   "metadata": {},
   "outputs": [],
   "source": [
    "mes_linea_maxPasajeros = pd.DataFrame(datos_subte_mesLinea).idxmax()"
   ]
  },
  {
   "cell_type": "markdown",
   "metadata": {},
   "source": [
    "Tupla (mes, línea de subte) donde viajó la mayor cantidad de pasajeros"
   ]
  },
  {
   "cell_type": "code",
   "execution_count": null,
   "metadata": {},
   "outputs": [],
   "source": [
    "mes_linea_maxPasajeros.iloc[0]"
   ]
  },
  {
   "cell_type": "markdown",
   "metadata": {},
   "source": [
    "#### c)"
   ]
  },
  {
   "cell_type": "markdown",
   "metadata": {},
   "source": [
    "Creamos el dataset solo con los días habiles, calculamos el desvío estandar para cada día y vemos el menor"
   ]
  },
  {
   "cell_type": "code",
   "execution_count": null,
   "metadata": {},
   "outputs": [],
   "source": [
    "dias_habiles = ['Lunes', 'Martes', 'Miércoles', 'Jueves', 'Viernes']\n",
    "datos_amba_habiles = datos_amba[datos_amba['fecha_dia'].isin(dias_habiles)]"
   ]
  },
  {
   "cell_type": "code",
   "execution_count": null,
   "metadata": {},
   "outputs": [],
   "source": [
    "desvios = []\n",
    "for dia_habil in dias_habiles:\n",
    "    desvio_estandar = datos_amba_habiles[datos_amba_habiles['fecha_dia']==dia_habil]['pasajeros'].std().round(1)\n",
    "    desvio_dia = (dia_habil, desvio_estandar)\n",
    "    desvios.append(desvio_dia)\n",
    "print(desvios)"
   ]
  },
  {
   "cell_type": "code",
   "execution_count": null,
   "metadata": {},
   "outputs": [],
   "source": [
    "dia_menos_desvio = min(desvios, key=lambda x: x[1])\n",
    "dia_menos_desvio[0]"
   ]
  },
  {
   "cell_type": "markdown",
   "metadata": {},
   "source": [
    "## Analisis exploratorio"
   ]
  },
  {
   "cell_type": "markdown",
   "metadata": {},
   "source": [
    "### Ejercicio 4"
   ]
  },
  {
<<<<<<< Updated upstream
   "cell_type": "markdown",
=======
   "cell_type": "code",
   "execution_count": 11,
>>>>>>> Stashed changes
   "metadata": {},
   "source": [
    "##### Gráfico 1"
   ]
  },
  {
   "cell_type": "code",
<<<<<<< Updated upstream
   "execution_count": null,
=======
   "execution_count": 12,
>>>>>>> Stashed changes
   "metadata": {},
   "outputs": [],
   "source": [
    "df_concatenado['DIA_TRANSPORTE'] = pd.to_datetime(df_concatenado['DIA_TRANSPORTE'], format='%Y-%m-%d')\n",
<<<<<<< Updated upstream
    "df_concatenado['AÑO'] = df_concatenado['DIA_TRANSPORTE'].dt.year\n",
    "so.Plot(data=df_concatenado, x=\"AÑO\", y=\"CANTIDAD\", color = \"TIPO_TRANSPORTE\").add(so.Bar(), so.Agg(\"sum\"), so.Dodge()).scale(x=so.Nominal()).label(title=\"Cantidad de pasajeros por tipo de transporte por año\", x=\"Año\", y=\"Cantidad de pasajeros\", color= \"transporte\" )"
=======
    "df_concatenado['AÑO'] = df_concatenado['DIA_TRANSPORTE'].dt.year\n"
   ]
  },
  {
   "cell_type": "code",
   "execution_count": 13,
   "metadata": {},
   "outputs": [
    {
     "data": {
      "image/png": "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",
      "text/plain": [
       "<seaborn._core.plot.Plot at 0x1c29479fb50>"
      ]
     },
     "execution_count": 13,
     "metadata": {
      "image/png": {
       "height": 378.25,
       "width": 636.65
      }
     },
     "output_type": "execute_result"
    }
   ],
   "source": [
    "so.Plot(data=df_concatenado, x=\"AÑO\", y=\"CANTIDAD\", color = \"TIPO_TRANSPORTE\").add(so.Bar(), so.Agg(\"sum\"), so.Dodge()).scale(x=so.Nominal()).label(title=\"Cantidad de pasajeros por tipo de transporte por año\", x=\"Año\", y=\"Cantidad de pasajeros\", color= \"transporte\" )\n"
>>>>>>> Stashed changes
   ]
  },
  {
   "cell_type": "markdown",
   "metadata": {},
   "source": [
    "En este grafico podemos ver que el uso del transporte publico incrementa año tras año, si bien hay que tener en cuenta que en el año 2020 el uso de este bajo abruptamente debido a la pandemia de COVID-19, la cual se extendio hacia inicios del 2021 en muchos sectores. Las oficinas al igual que los establecimientos educativos adoptaron modos de trabajo virtual, lo que consecuentemente hizo que la poblacion tenga que salir menos de sus casas y por lo tanto tomar menos colectivos, subtes, trenes y lanchas. A partir del 2022 se ve un fuerte incremento del uso de dichos transportes con la pandemia ya dejada de lado, es probable que con los incrementos de los costos de mantener un vehiculo propio en los proximos años sigan subiendo los numeros de pasajeros."
   ]
  },
  {
   "cell_type": "code",
   "execution_count": 19,
   "metadata": {},
   "outputs": [],
   "source": [
    "dataset_sube20['DIA_TRANSPORTE'] = pd.to_datetime(dataset_sube['DIA_TRANSPORTE'], format='%Y-%m-%d')\n",
    "dataset_sube20['MES'] = dataset_sube20['DIA_TRANSPORTE'].dt.month\n"
   ]
  },
  {
   "cell_type": "code",
   "execution_count": 38,
   "metadata": {},
   "outputs": [],
   "source": [
    "dataset_sube20_mes_completo= dataset_sube20[dataset_sube20[\"MES\"]!=10]"
   ]
  },
  {
   "cell_type": "code",
   "execution_count": 39,
   "metadata": {},
   "outputs": [
    {
     "data": {
      "text/html": [
       "<div>\n",
       "<style scoped>\n",
       "    .dataframe tbody tr th:only-of-type {\n",
       "        vertical-align: middle;\n",
       "    }\n",
       "\n",
       "    .dataframe tbody tr th {\n",
       "        vertical-align: top;\n",
       "    }\n",
       "\n",
       "    .dataframe thead th {\n",
       "        text-align: right;\n",
       "    }\n",
       "</style>\n",
       "<table border=\"1\" class=\"dataframe\">\n",
       "  <thead>\n",
       "    <tr style=\"text-align: right;\">\n",
       "      <th></th>\n",
       "      <th>DIA_TRANSPORTE</th>\n",
       "      <th>NOMBRE_EMPRESA</th>\n",
       "      <th>LINEA</th>\n",
       "      <th>AMBA</th>\n",
       "      <th>TIPO_TRANSPORTE</th>\n",
       "      <th>JURISDICCION</th>\n",
       "      <th>PROVINCIA</th>\n",
       "      <th>MUNICIPIO</th>\n",
       "      <th>CANTIDAD</th>\n",
       "      <th>DATO_PRELIMINAR</th>\n",
       "      <th>MES</th>\n",
       "    </tr>\n",
       "  </thead>\n",
       "  <tbody>\n",
       "    <tr>\n",
       "      <th>0</th>\n",
       "      <td>2023-01-01</td>\n",
       "      <td>EMPRESA BATAN S.A.</td>\n",
       "      <td>BS_AS_LINEA 715M</td>\n",
       "      <td>NO</td>\n",
       "      <td>COLECTIVO</td>\n",
       "      <td>MUNICIPAL</td>\n",
       "      <td>BUENOS AIRES</td>\n",
       "      <td>GENERAL PUEYRREDON</td>\n",
       "      <td>2154</td>\n",
       "      <td>NO</td>\n",
       "      <td>1</td>\n",
       "    </tr>\n",
       "    <tr>\n",
       "      <th>1</th>\n",
       "      <td>2023-01-01</td>\n",
       "      <td>COMPAÑIA  DE TRANSPORTE VECINAL S.A.</td>\n",
       "      <td>BS_AS_LINEA_326</td>\n",
       "      <td>SI</td>\n",
       "      <td>COLECTIVO</td>\n",
       "      <td>PROVINCIAL</td>\n",
       "      <td>BUENOS AIRES</td>\n",
       "      <td>SN</td>\n",
       "      <td>1492</td>\n",
       "      <td>NO</td>\n",
       "      <td>1</td>\n",
       "    </tr>\n",
       "    <tr>\n",
       "      <th>2</th>\n",
       "      <td>2023-01-01</td>\n",
       "      <td>EMPRESA DE TRANSPORTE PERALTA RAMOS SACI</td>\n",
       "      <td>BS_AS_LINEA_512</td>\n",
       "      <td>NO</td>\n",
       "      <td>COLECTIVO</td>\n",
       "      <td>MUNICIPAL</td>\n",
       "      <td>BUENOS AIRES</td>\n",
       "      <td>GENERAL PUEYRREDON</td>\n",
       "      <td>1889</td>\n",
       "      <td>NO</td>\n",
       "      <td>1</td>\n",
       "    </tr>\n",
       "    <tr>\n",
       "      <th>3</th>\n",
       "      <td>2023-01-01</td>\n",
       "      <td>AUTOBUSES BUENOS AIRES S.R.L. – TRANSPORTE LAR...</td>\n",
       "      <td>BS_AS_LINEA_514</td>\n",
       "      <td>SI</td>\n",
       "      <td>COLECTIVO</td>\n",
       "      <td>MUNICIPAL</td>\n",
       "      <td>BUENOS AIRES</td>\n",
       "      <td>ALMIRANTE BROWN</td>\n",
       "      <td>4669</td>\n",
       "      <td>NO</td>\n",
       "      <td>1</td>\n",
       "    </tr>\n",
       "    <tr>\n",
       "      <th>4</th>\n",
       "      <td>2023-01-01</td>\n",
       "      <td>EL URBANO SRL</td>\n",
       "      <td>BS_AS_LINEA_522</td>\n",
       "      <td>SI</td>\n",
       "      <td>COLECTIVO</td>\n",
       "      <td>MUNICIPAL</td>\n",
       "      <td>BUENOS AIRES</td>\n",
       "      <td>LANUS</td>\n",
       "      <td>187</td>\n",
       "      <td>NO</td>\n",
       "      <td>1</td>\n",
       "    </tr>\n",
       "    <tr>\n",
       "      <th>...</th>\n",
       "      <td>...</td>\n",
       "      <td>...</td>\n",
       "      <td>...</td>\n",
       "      <td>...</td>\n",
       "      <td>...</td>\n",
       "      <td>...</td>\n",
       "      <td>...</td>\n",
       "      <td>...</td>\n",
       "      <td>...</td>\n",
       "      <td>...</td>\n",
       "      <td>...</td>\n",
       "    </tr>\n",
       "    <tr>\n",
       "      <th>349883</th>\n",
       "      <td>2023-09-30</td>\n",
       "      <td>EXPRESO VILLA GALICIA  SAN JOSE S.A.</td>\n",
       "      <td>BSAS_LINEA_239B</td>\n",
       "      <td>SI</td>\n",
       "      <td>COLECTIVO</td>\n",
       "      <td>PROVINCIAL</td>\n",
       "      <td>BUENOS AIRES</td>\n",
       "      <td>SN</td>\n",
       "      <td>697</td>\n",
       "      <td>NO</td>\n",
       "      <td>9</td>\n",
       "    </tr>\n",
       "    <tr>\n",
       "      <th>349884</th>\n",
       "      <td>2023-09-30</td>\n",
       "      <td>LA CABAÑA S.A.</td>\n",
       "      <td>BSAS_LINEA_242</td>\n",
       "      <td>SI</td>\n",
       "      <td>COLECTIVO</td>\n",
       "      <td>PROVINCIAL</td>\n",
       "      <td>BUENOS AIRES</td>\n",
       "      <td>SN</td>\n",
       "      <td>6016</td>\n",
       "      <td>NO</td>\n",
       "      <td>9</td>\n",
       "    </tr>\n",
       "    <tr>\n",
       "      <th>349885</th>\n",
       "      <td>2023-09-30</td>\n",
       "      <td>EMPRESA DEL OESTE SAT</td>\n",
       "      <td>BSAS_LINEA_244</td>\n",
       "      <td>SI</td>\n",
       "      <td>COLECTIVO</td>\n",
       "      <td>PROVINCIAL</td>\n",
       "      <td>BUENOS AIRES</td>\n",
       "      <td>SN</td>\n",
       "      <td>702</td>\n",
       "      <td>NO</td>\n",
       "      <td>9</td>\n",
       "    </tr>\n",
       "    <tr>\n",
       "      <th>349886</th>\n",
       "      <td>2023-09-30</td>\n",
       "      <td>EMPRESA MONTE GRANDE S.A. LINEA 501</td>\n",
       "      <td>BSAS_LINEA_245</td>\n",
       "      <td>SI</td>\n",
       "      <td>COLECTIVO</td>\n",
       "      <td>PROVINCIAL</td>\n",
       "      <td>BUENOS AIRES</td>\n",
       "      <td>SN</td>\n",
       "      <td>658</td>\n",
       "      <td>NO</td>\n",
       "      <td>9</td>\n",
       "    </tr>\n",
       "    <tr>\n",
       "      <th>349887</th>\n",
       "      <td>2023-09-30</td>\n",
       "      <td>EXPRESO NUEVE DE JULIO S.A.</td>\n",
       "      <td>BSAS_LINEA_247</td>\n",
       "      <td>SI</td>\n",
       "      <td>COLECTIVO</td>\n",
       "      <td>PROVINCIAL</td>\n",
       "      <td>BUENOS AIRES</td>\n",
       "      <td>SN</td>\n",
       "      <td>5789</td>\n",
       "      <td>NO</td>\n",
       "      <td>9</td>\n",
       "    </tr>\n",
       "  </tbody>\n",
       "</table>\n",
       "<p>349888 rows × 11 columns</p>\n",
       "</div>"
      ],
      "text/plain": [
       "       DIA_TRANSPORTE                                     NOMBRE_EMPRESA  \\\n",
       "0          2023-01-01                                 EMPRESA BATAN S.A.   \n",
       "1          2023-01-01               COMPAÑIA  DE TRANSPORTE VECINAL S.A.   \n",
       "2          2023-01-01           EMPRESA DE TRANSPORTE PERALTA RAMOS SACI   \n",
       "3          2023-01-01  AUTOBUSES BUENOS AIRES S.R.L. – TRANSPORTE LAR...   \n",
       "4          2023-01-01                                      EL URBANO SRL   \n",
       "...               ...                                                ...   \n",
       "349883     2023-09-30               EXPRESO VILLA GALICIA  SAN JOSE S.A.   \n",
       "349884     2023-09-30                                     LA CABAÑA S.A.   \n",
       "349885     2023-09-30                              EMPRESA DEL OESTE SAT   \n",
       "349886     2023-09-30                EMPRESA MONTE GRANDE S.A. LINEA 501   \n",
       "349887     2023-09-30                        EXPRESO NUEVE DE JULIO S.A.   \n",
       "\n",
       "                   LINEA AMBA TIPO_TRANSPORTE JURISDICCION     PROVINCIA  \\\n",
       "0       BS_AS_LINEA 715M   NO       COLECTIVO    MUNICIPAL  BUENOS AIRES   \n",
       "1        BS_AS_LINEA_326   SI       COLECTIVO   PROVINCIAL  BUENOS AIRES   \n",
       "2        BS_AS_LINEA_512   NO       COLECTIVO    MUNICIPAL  BUENOS AIRES   \n",
       "3        BS_AS_LINEA_514   SI       COLECTIVO    MUNICIPAL  BUENOS AIRES   \n",
       "4        BS_AS_LINEA_522   SI       COLECTIVO    MUNICIPAL  BUENOS AIRES   \n",
       "...                  ...  ...             ...          ...           ...   \n",
       "349883   BSAS_LINEA_239B   SI       COLECTIVO   PROVINCIAL  BUENOS AIRES   \n",
       "349884    BSAS_LINEA_242   SI       COLECTIVO   PROVINCIAL  BUENOS AIRES   \n",
       "349885    BSAS_LINEA_244   SI       COLECTIVO   PROVINCIAL  BUENOS AIRES   \n",
       "349886    BSAS_LINEA_245   SI       COLECTIVO   PROVINCIAL  BUENOS AIRES   \n",
       "349887    BSAS_LINEA_247   SI       COLECTIVO   PROVINCIAL  BUENOS AIRES   \n",
       "\n",
       "                 MUNICIPIO  CANTIDAD DATO_PRELIMINAR  MES  \n",
       "0       GENERAL PUEYRREDON      2154              NO    1  \n",
       "1                       SN      1492              NO    1  \n",
       "2       GENERAL PUEYRREDON      1889              NO    1  \n",
       "3          ALMIRANTE BROWN      4669              NO    1  \n",
       "4                    LANUS       187              NO    1  \n",
       "...                    ...       ...             ...  ...  \n",
       "349883                  SN       697              NO    9  \n",
       "349884                  SN      6016              NO    9  \n",
       "349885                  SN       702              NO    9  \n",
       "349886                  SN       658              NO    9  \n",
       "349887                  SN      5789              NO    9  \n",
       "\n",
       "[349888 rows x 11 columns]"
      ]
     },
     "execution_count": 39,
     "metadata": {},
     "output_type": "execute_result"
    }
   ],
   "source": [
    "dataset_sube20_mes_completo"
   ]
  },
  {
   "cell_type": "code",
   "execution_count": 73,
   "metadata": {},
   "outputs": [],
   "source": [
    "grafico1=so.Plot(data=dataset_sube20_mes_completo[dataset_sube20_mes_completo[\"TIPO_TRANSPORTE\"]!=\"COLECTIVO\"], x= \"MES\", y= \"CANTIDAD\", color= \"TIPO_TRANSPORTE\").add(so.Dot(), so.Agg(\"sum\")).add(so.Line(), so.Agg(\"sum\")).scale(x= so.Nominal())"
   ]
  },
  {
   "cell_type": "code",
   "execution_count": 74,
   "metadata": {},
   "outputs": [],
   "source": [
    "grafico2=so.Plot(data=dataset_sube20_mes_completo[dataset_sube20_mes_completo[\"TIPO_TRANSPORTE\"]==\"COLECTIVO\"], x= \"MES\", y= \"CANTIDAD\", color= \"TIPO_TRANSPORTE\").add(so.Dot(color=\"black\"), so.Agg(\"sum\")).add(so.Line(color=\"black\"), so.Agg(\"sum\")).scale(x= so.Nominal())"
   ]
  },
  {
   "cell_type": "code",
   "execution_count": 84,
   "metadata": {},
   "outputs": [
    {
     "data": {
      "image/png": "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",
      "text/plain": [
       "<Figure size 1400x800 with 2 Axes>"
      ]
     },
     "metadata": {},
     "output_type": "display_data"
    }
   ],
   "source": [
    "grafico1_path = \"grafico1.png\"\n",
    "grafico2_path = \"grafico2.png\"\n",
    "grafico1.save(grafico1_path)\n",
    "grafico2.save(grafico2_path)\n",
    "\n",
    "fig, axs = plt.subplots(1, 2, figsize=(14, 8)) \n",
    "\n",
    "axs[0].imshow(plt.imread(grafico1_path))\n",
    "axs[0].axis('off')  \n",
    "axs[1].imshow(plt.imread(grafico2_path))\n",
    "axs[1].axis('off')  \n",
    "\n",
    "os.remove(grafico1_path)\n",
    "os.remove(grafico2_path)\n",
    "\n",
    "plt.show()\n"
   ]
  },
  {
   "cell_type": "markdown",
   "metadata": {},
   "source": [
    "##### Gráfico 2"
   ]
  },
  {
   "cell_type": "code",
   "execution_count": null,
   "metadata": {},
   "outputs": [],
   "source": [
    "# Filtro los datos solo para lanchas\n",
    "lanchas_data = df_concatenado[df_concatenado['TIPO_TRANSPORTE'] == 'LANCHAS']\n",
    "\n",
    "# Creo una función para obtener las medianas por año\n",
    "def obtener_medianas_por_año(data, year):\n",
    "    data_año = data[data['AÑO'] == year]\n",
    "    medianas = data_año.groupby('LINEA')['CANTIDAD'].median().reset_index()\n",
    "    return medianas.sort_values(by='LINEA', ascending=False)\n",
    "\n",
    "# Obtengo las medianas para cada año en especifico\n",
    "lanchas_medianas20 = obtener_medianas_por_año(lanchas_data, 2020)\n",
    "lanchas_medianas21 = obtener_medianas_por_año(lanchas_data, 2021)\n",
    "lanchas_medianas22 = obtener_medianas_por_año(lanchas_data, 2022)\n",
    "lanchas_medianas23 = obtener_medianas_por_año(lanchas_data, 2023)\n",
    "\n",
    "# Creo una nueva figura y ejes para el gráfico combinado\n",
    "fig, axes = plt.subplots(2, 2, figsize=(15, 10))\n",
    "\n",
    "# Gráfico 2020\n",
    "axes[0, 0].bar(lanchas_medianas20['LINEA'], lanchas_medianas20['CANTIDAD'], color='b')\n",
    "axes[0, 0].set_title('Mediana de pasajeros por línea de lancha (2020)')\n",
    "axes[0, 0].set_xlabel('Línea de lancha')\n",
    "axes[0, 0].set_ylabel('Cantidad de pasajeros (mediana)')\n",
    "plt.setp(axes[0, 0].get_xticklabels(), rotation=45, ha='right')\n",
    "\n",
    "# Gráfico 2021\n",
    "axes[0, 1].bar(lanchas_medianas21['LINEA'], lanchas_medianas21['CANTIDAD'], color='g')\n",
    "axes[0, 1].set_title('Mediana de pasajeros por línea de lancha (2021)')\n",
    "axes[0, 1].set_xlabel('Línea de lancha')\n",
    "axes[0, 1].set_ylabel('Cantidad de pasajeros (mediana)')\n",
    "plt.setp(axes[0, 1].get_xticklabels(), rotation=45, ha='right')\n",
    "\n",
    "# Gráfico 2022\n",
    "axes[1, 0].bar(lanchas_medianas22['LINEA'], lanchas_medianas22['CANTIDAD'], color='r')\n",
    "axes[1, 0].set_title('Mediana de pasajeros por línea de lancha (2022)')\n",
    "axes[1, 0].set_xlabel('Línea de lancha')\n",
    "axes[1, 0].set_ylabel('Cantidad de pasajeros (mediana)')\n",
    "plt.setp(axes[1, 0].get_xticklabels(), rotation=45, ha='right')\n",
    "\n",
    "# Gráfico 2023\n",
    "axes[1, 1].bar(lanchas_medianas23['LINEA'], lanchas_medianas23['CANTIDAD'], color='purple')\n",
    "axes[1, 1].set_title('Mediana de pasajeros por línea de lancha (2023)')\n",
    "axes[1, 1].set_xlabel('Línea de lancha')\n",
    "axes[1, 1].set_ylabel('Cantidad de pasajeros (mediana)')\n",
    "plt.setp(axes[1, 1].get_xticklabels(), rotation=45, ha='right')\n",
    "\n",
    "# Ajusto el espacio entre los subgráficos\n",
    "plt.tight_layout()\n",
    "\n",
    "# Muestro el gráfico\n",
    "plt.show()"
   ]
  },
  {
   "cell_type": "markdown",
   "metadata": {},
   "source": [
    "Estos gráficos no solo muestran cómo varió la mediana de pasajeros en las diferentes líneas de lancha durante los años 2020, 2021, 2022 y 2023, sino que también reflejan las posibles influencias externas que han afectado el uso del transporte acuático en los últimos años. En el gráfico del año 2020 se puede observar que la mediana es significativamente menor que la de los siguientes años ya que por la pandemia covid-19, la mayoría de personas no podían salir de sus casas y por ende se redujo el uso las lanchas, en el próximo gráfico analizaremos este interesante año más en detalle. En 2021, la mediana de pasajeros se estabilizó en comparación con 2020. Las diferencias entre las líneas no son tan marcadas, lo que podría significar una distribución más uniforme del uso de las lanchas. Esto puede ser resultado de cambios en las políticas de transporte o adaptaciones a nuevas rutas. En 2022, se nota una tendencia hacia un aumento en la mediana de pasajeros en varias líneas, indicando una posible recuperación en el uso de las lanchas. Este incremento podría estar relacionado con la reactivación económica y un regreso gradual a la normalidad post-pandemia. En 2023, se puede ver un gran aumento en la mediana de la cantidad de pasajeros en comparación a los años anteriores, se podría decir que se esta normalizando la movilidad y el uso de los transportes acuaticos despues de la pandemia."
   ]
  },
  {
   "cell_type": "markdown",
   "metadata": {},
   "source": [
    "##### Gráfico 3"
   ]
  },
  {
   "cell_type": "code",
   "execution_count": null,
   "metadata": {},
   "outputs": [],
   "source": [
    "sns.barplot(data=datos_amba, x='fecha_dia', y='pasajeros', estimator='sum', order=dias, errorbar=None)"
   ]
  },
  {
   "cell_type": "markdown",
   "metadata": {},
   "source": [
    "##### Gráfico 4"
   ]
  },
  {
   "cell_type": "code",
   "execution_count": null,
   "metadata": {},
   "outputs": [],
   "source": [
    "pivot_table = datos_amba.pivot_table(\n",
    "    values='pasajeros', \n",
    "    index='fecha_dia', \n",
    "    columns='tipo_transporte', \n",
    "    aggfunc='sum', \n",
    "    fill_value=0,\n",
    ")\n",
    "\n",
    "def thousands(x, pos):\n",
    "    return '%1.0fK' % (x * 1e-3)\n",
    "\n",
    "plt.figure(figsize=(10, 6))\n",
    "heatmap = sns.heatmap(pivot_table, annot=True, fmt='d', cmap='viridis')\n",
    "plt.title('Heatmap de Pasajeros por Tipo de Transporte y Día de la Semana')\n",
    "plt.xlabel('Tipo de Transporte')\n",
    "plt.ylabel('Día de la Semana')\n",
    "\n",
    "for t in heatmap.texts:\n",
    "    t.set_text(thousands(float(t.get_text()), None))\n",
    "    \n",
    "plt.show()"
   ]
  },
  {
   "cell_type": "markdown",
   "metadata": {},
   "source": [
    "##### Gráfico 5"
   ]
  },
  {
   "cell_type": "code",
   "execution_count": null,
   "metadata": {},
   "outputs": [],
   "source": [
    "agrupado_provincia = dataset_sube.groupby(['PROVINCIA'])['CANTIDAD'].sum().reset_index()"
   ]
  },
  {
   "cell_type": "code",
   "execution_count": null,
   "metadata": {},
   "outputs": [],
   "source": [
    "agrupado_provincia = agrupado_provincia.merge(poblacion_provincias,how='left', on='PROVINCIA')"
   ]
  },
  {
   "cell_type": "code",
   "execution_count": null,
   "metadata": {},
   "outputs": [],
   "source": [
    "agrupado_provincia_interior = agrupado_provincia[(agrupado_provincia['PROVINCIA']!='BUENOS AIRES') & (agrupado_provincia['PROVINCIA']!='JN')]"
   ]
  },
  {
   "cell_type": "code",
   "execution_count": null,
   "metadata": {},
   "outputs": [],
   "source": [
    "plt.figure(figsize=(12, 6))\n",
    "scatter = sns.scatterplot(data=agrupado_provincia_interior, x='POBLACION', y='CANTIDAD', hue='PROVINCIA', palette='viridis', legend=False)\n",
    "for index, row in agrupado_provincia_interior.iterrows():\n",
    "    scatter.text(row['POBLACION'], row['CANTIDAD'], row['PROVINCIA'], ha='left', fontsize=5, \n",
    "                 va='bottom', rotation_mode='anchor', \n",
    "                 bbox=dict(facecolor='white', alpha=0.5))\n",
    "plt.xlabel('Población Total')\n",
    "plt.ylabel('Cantidad de Pasajeros')\n",
    "plt.title('Relación entre Pasajeros y Población por Provincia')\n",
    "# plt.legend(title='Provincia', bbox_to_anchor=(1.05, 1), loc='upper left')\n",
    "plt.show()"
   ]
  },
  {
   "cell_type": "markdown",
   "metadata": {},
   "source": [
    "##### Gráfico 6"
   ]
  },
  {
   "cell_type": "code",
   "execution_count": null,
   "metadata": {},
   "outputs": [],
   "source": [
    "# Creo una columna para el mes en el DataFrame del año 2020\n",
    "dataset_sube20['DIA_TRANSPORTE'] = pd.to_datetime(dataset_sube20['DIA_TRANSPORTE'])\n",
    "dataset_sube20['MES'] = dataset_sube20['DIA_TRANSPORTE'].dt.month\n",
    "\n",
    "# Filtro los datos solo para lanchas\n",
    "lanchas_data_2020 = dataset_sube20[dataset_sube20['TIPO_TRANSPORTE'] == 'LANCHAS']\n",
    "\n",
    "# Obtengo la suma de pasajeros por mes\n",
    "pasajeros_por_mes = lanchas_data_2020.groupby('MES')['CANTIDAD'].sum().reset_index()\n",
    "\n",
    "# Creo el gráfico\n",
    "plt.figure(figsize=(10, 6))\n",
    "plt.bar(pasajeros_por_mes['MES'], pasajeros_por_mes['CANTIDAD'], color='r')\n",
    "plt.title('Cantidad de pasajeros por mes en lancha - 2020')\n",
    "plt.xlabel('Mes')\n",
    "plt.ylabel('Cantidad de pasajeros')\n",
    "plt.xticks(pasajeros_por_mes['MES'], ['Enero', 'Febrero', 'Marzo', 'Abril', 'Mayo', 'Junio', 'Julio', 'Agosto', 'Septiembre', 'Octubre', 'Noviembre', 'Diciembre'], rotation=45)\n",
    "plt.grid(axis='y')\n",
    "\n",
    "# Muestro el gráfico\n",
    "plt.tight_layout()\n",
    "plt.show()"
   ]
  },
  {
   "cell_type": "markdown",
   "metadata": {},
   "source": [
    "En este gráfico podemos observar mejor cómo afectó la pandemia en el uso de las lanchas. Más allá de que generalmente en los meses del verano (Enero, Febrero, Marzo) se utilizan las lanchas en mayor cantidad que otros meses del año, ya que el clima es caluroso y la gente elije pasar tiempo en el rio, hay que tener en cuenta que en el 2020 en particular en Marzo inició la pandemia por ende esto hace que la diferencia de la mediana de cantidad de pasajeros entre los meses del verano y los demás meses del año sea mayor que lo normal. Luego se puede observar un aumento gradual en la segunda mitad del año, esto podría indicar una recuperación en el uso de las lanchas a medida que las restricciones se relajaban y las personas comenzaban a retomar sus actividades normales."
   ]
  },
  {
   "cell_type": "markdown",
   "metadata": {},
   "source": [
    "##### Gráfico 7"
   ]
  },
  {
   "cell_type": "code",
   "execution_count": null,
   "metadata": {},
   "outputs": [],
   "source": [
    "datosSinBAJN = dataset_sube[(dataset_sube[\"PROVINCIA\"] != \"JN\") & (dataset_sube[\"PROVINCIA\"] != \"BUENOS AIRES\")]\n",
    "datos_agrupados = datosSinBAJN.groupby(['PROVINCIA', 'TIPO_TRANSPORTE'])['CANTIDAD'].sum().unstack()\n",
    "\n",
    "datos_agrupados.plot(kind='bar', stacked=True, figsize=(10, 6))\n",
    "plt.title('Cantidad de pasajeros en colectivo por provincia (2023)')\n",
    "plt.xlabel('Provincia')\n",
    "plt.ylabel('Cantidad de pasajeros')\n",
    "plt.xticks(rotation=45, ha='right')\n",
    "plt.legend(title='Tipo de transporte')\n",
    "plt.tight_layout()\n",
    "plt.show()"
   ]
  },
  {
   "cell_type": "markdown",
   "metadata": {},
   "source": [
    "En este gráfico podemos observar la cantidad total de pasajeros en colectivo en las provincias de Argentina en 2023, excluyendo a Buenos Aires y JN ya que estos mostraban mucha diferencia en la cantidad de pasajeros y decidimos graficarlos aparte para así poder observar una distribución más equilibrada entre las demás provincias. En conclusión, podemos observar diferencias notables en el uso del colectivo en las diferentes provincias. Las provincias con mayor cantidad de pasajeros en colectivo probablemente cuentan con una mejor infraestructura y accesibilidad en términos de rutas y disponibilidad de transporte público. Podemos notar que en Córdoba no hay ningun registro de uso de la sube en 2023, luego de hacer una busqueda logramos descubrir que en esta provincia se implementó la SUBE a principios del 2024, por lo tanto no hay datos al respecto. Destacamos la gran diferencia en mayor uso de la SUBE en mendoza, esto puede deberse a varios factores como la cantidad de poblacion que vive en la provincia, una infraestructura de transporte público más desarrollada, mayor apoyo gubernamental y subsidios."
   ]
  },
  {
   "cell_type": "markdown",
   "metadata": {},
   "source": [
    "##### Gráfico 8"
   ]
  },
  {
   "cell_type": "code",
   "execution_count": null,
   "metadata": {},
   "outputs": [],
   "source": [
    "datosSoloBAJN = dataset_sube[dataset_sube[\"TIPO_TRANSPORTE\"]==\"COLECTIVO\"]\n",
    "datosSoloBAJN = datosSoloBAJN[(datosSoloBAJN[\"PROVINCIA\"] == \"JN\") | (dataset_sube[\"PROVINCIA\"] == \"BUENOS AIRES\")]\n",
    "datos_agrupados2 = datosSoloBAJN.groupby(['PROVINCIA', 'TIPO_TRANSPORTE'])['CANTIDAD'].sum().unstack()\n",
    "\n",
    "datos_agrupados2.plot(kind='bar', stacked=True, figsize=(5, 5))\n",
    "plt.title('Cantidad de pasajeros en colectivos en BUENOS AIRES Y JN (2023)')\n",
    "plt.xlabel('Provincia')\n",
    "plt.ylabel('Cantidad de pasajeros')\n",
    "plt.xticks(rotation=45, ha='right')\n",
    "plt.tight_layout()\n",
    "plt.show()"
   ]
  },
  {
   "cell_type": "markdown",
   "metadata": {},
   "source": [
    "El gráfico de barras muestra la cantidad total de pasajeros en colectivos en la provincia de Buenos Aires y en Jurisdicción Nacional durante el año 2023. Para este analizis hay que tener en cuenta que Buenos Aires es la capital de Argentina y uno de los centros más importantes del país, donde vive una gran parte de la población y donde se generan gran parte de las actividades económicas. Esta alta concentración poblacional y actividad económica se refleja en la alta demanda de transporte público, como lo evidencia el número de pasajeros en colectivos. La Jurisdicción Nacional, incluye áreas bajo jurisdicción directa del gobierno federal, puede presentar características específicas en cuanto a la distribución de la población, el tipo de actividades y la disponibilidad de transporte público. Estas particularidades pueden influir en la menor cantidad de pasajeros en colectivos en comparación con Buenos Aires. Además queremos agregar que observamos que la linea BS_AS_LINEA_514 no tiene asignada ninguna provincia (nan), luego de hacer una investigacion, en el dataset exportado desde la pagina \"\" vemos que esta linea tiene asignada la provincia de \"BUENOS AIRES\", igualmente teniendo en cuenta esta diferencia en los datos, podemos afirmar que esto no cambia nuestras conclusiones anteriores ya que se sumarian más datos a la provincia de Buenos Aires que es la que tiene mayor cantidad de datos."
   ]
  },
  {
   "cell_type": "code",
   "execution_count": null,
   "metadata": {},
   "outputs": [],
   "source": [
    "#Reviso si hay datos que en la columna de provincia sean nan y que no sean subte ya que se que estos no tienen asignada ninguna provincia\n",
    "dataset_sube[(dataset_sube[\"PROVINCIA\"].isna()) & (dataset_sube[\"TIPO_TRANSPORTE\"] != \"SUBTE\")]"
   ]
  },
  {
   "cell_type": "markdown",
   "metadata": {},
   "source": [
    "## Modelado"
   ]
  },
  {
   "cell_type": "markdown",
   "metadata": {},
   "source": [
    "### Ejercicio 5"
   ]
  },
  {
   "cell_type": "markdown",
   "metadata": {},
   "source": [
    "Creamos el dataset para los modelos y hacemos preprocesamiento"
   ]
  },
  {
   "cell_type": "code",
   "execution_count": null,
   "metadata": {},
   "outputs": [],
   "source": [
    "datos_ColectivoJN = dataset_sube_regresion[(dataset_sube_regresion['TIPO_TRANSPORTE']=='COLECTIVO') & (dataset_sube_regresion['PROVINCIA']=='JN') & (dataset_sube_regresion['AMBA']=='SI')]\n",
    "cols = datos_ColectivoJN.LINEA.unique()"
   ]
  },
  {
   "cell_type": "code",
   "execution_count": null,
   "metadata": {},
   "outputs": [],
   "source": [
    "pasajeros_por_linea = pd.DataFrame()\n",
    "for col in  cols:\n",
    "    datos_linea = datos_ColectivoJN[datos_ColectivoJN.LINEA ==col][[\"DIA_TRANSPORTE\", \"CANTIDAD\"]]\n",
    "    datos_linea =datos_linea.set_index(\"DIA_TRANSPORTE\").rename(columns ={\"CANTIDAD\" : col})\n",
    "    pasajeros_por_linea = pd.concat([pasajeros_por_linea ,datos_linea], axis = 1)"
   ]
  },
  {
   "cell_type": "code",
   "execution_count": null,
   "metadata": {},
   "outputs": [],
   "source": [
    "pasajeros_por_linea = pasajeros_por_linea.dropna(axis=1)"
   ]
  },
  {
   "cell_type": "code",
   "execution_count": null,
   "metadata": {},
   "outputs": [],
   "source": [
    "pasajeros_por_linea.head()"
   ]
  },
  {
   "cell_type": "markdown",
   "metadata": {},
   "source": [
    "#### Regresion Lineal Univariada"
   ]
  },
  {
   "cell_type": "code",
   "execution_count": null,
   "metadata": {},
   "outputs": [],
   "source": [
    "columna_regresion_univ = top_5_columns[0]"
   ]
  },
  {
   "cell_type": "code",
   "execution_count": null,
   "metadata": {},
   "outputs": [],
   "source": [
    "predictor_univ = pasajeros_por_linea[[columna_regresion_univ]]"
   ]
  },
  {
   "cell_type": "code",
   "execution_count": null,
   "metadata": {},
   "outputs": [],
   "source": [
    "modelo_univ = linear_model.LinearRegression()    \n",
    "modelo_univ.fit(predictor_univ, pasajeros_por_linea[['BSAS_LINEA_009']])"
   ]
  },
  {
   "cell_type": "code",
   "execution_count": null,
   "metadata": {},
   "outputs": [],
   "source": [
    "y_pred_univ = modelo_univ.predict(predictor_univ)\n",
    "r2_score(pasajeros_por_linea[['BSAS_LINEA_009']], y_pred_univ)"
   ]
  },
  {
   "cell_type": "code",
   "execution_count": null,
   "metadata": {},
   "outputs": [],
   "source": [
    "mse = mean_squared_error(pasajeros_por_linea[['BSAS_LINEA_009']], y_pred_univ)\n",
    "mae = mean_absolute_error(pasajeros_por_linea[['BSAS_LINEA_009']], y_pred_univ)\n",
    "r2 = r2_score(pasajeros_por_linea[['BSAS_LINEA_009']], y_pred_univ)\n",
    "\n",
    "print(f'Error Cuadrático Medio: {np.sqrt(mse)}')\n",
    "print(f'Error Absoluto Medio: {mae}')\n",
    "print(f'R2: {r2}')"
   ]
  },
  {
   "cell_type": "markdown",
   "metadata": {},
   "source": [
    "#### Regresion Lineal Multivariada"
   ]
  },
  {
   "cell_type": "markdown",
   "metadata": {},
   "source": [
    "En este caso, elejimos 5 columnas para entrenar el modelo en base a la varianza de los datos. Primero calculamos la varianza de la variable a predecir, Linea 009, y despues buscamos las 5 columnas que tengan varianza simialar a ésta."
   ]
  },
  {
   "cell_type": "code",
   "execution_count": null,
   "metadata": {},
   "outputs": [],
   "source": [
    "varianzas = pasajeros_por_linea.var()\n",
    "\n",
    "varianza_009 = varianzas['BSAS_LINEA_009']\n",
    "\n",
    "diferencia_varianza = np.abs(varianzas - varianza_009)\n",
    "\n",
    "columnas_mas_cercanas = diferencia_varianza.nsmallest(6).index  \n",
    "columnas_mas_cercanas = columnas_mas_cercanas[columnas_mas_cercanas != 'BSAS_LINEA_009'] \n",
    "print(f'Lineas con las varianza mas cercana a la 009: {columnas_mas_cercanas.values}')\n"
   ]
  },
  {
   "cell_type": "code",
   "execution_count": null,
   "metadata": {},
   "outputs": [],
   "source": [
    "modelo_multivariado = linear_model.LinearRegression() "
   ]
  },
  {
   "cell_type": "code",
   "execution_count": null,
   "metadata": {},
   "outputs": [],
   "source": [
    "X_mv=pasajeros_por_linea[columnas_mas_cercanas]\n",
    "y_mv=pasajeros_por_linea['BSAS_LINEA_009']\n",
    "X_train_mv, X_test_mv, y_train_mv, y_test_mv = train_test_split(X_mv, y_mv, test_size=0.2, random_state=42)"
   ]
  },
  {
   "cell_type": "code",
   "execution_count": null,
   "metadata": {},
   "outputs": [],
   "source": [
    "modelo_multivariado.fit(X_train_mv, y_train_mv)"
   ]
  },
  {
   "cell_type": "code",
   "execution_count": null,
   "metadata": {},
   "outputs": [],
   "source": [
    "y_pred_mv = modelo_multivariado.predict(X_test_mv)"
   ]
  },
  {
   "cell_type": "code",
   "execution_count": null,
   "metadata": {},
   "outputs": [],
   "source": [
    "y_test_mv = y_test_mv.values.ravel()"
   ]
  },
  {
   "cell_type": "code",
   "execution_count": null,
   "metadata": {},
   "outputs": [],
   "source": [
    "plt.figure(figsize=(10, 6))\n",
    "sns.scatterplot(x=y_test_mv, y=y_pred_mv)\n",
    "plt.plot([y_test_mv.min(), y_test_mv.max()], [y_test_mv.min(), y_test_mv.max()], 'k--', lw=3)\n",
    "plt.xlabel('Valores Reales')\n",
    "plt.ylabel('Valores Predichos')\n",
    "plt.title('Regresión Lineal Multivariada')\n",
    "plt.show()"
   ]
  },
  {
   "cell_type": "code",
   "execution_count": null,
   "metadata": {},
   "outputs": [],
   "source": [
    "mse = mean_squared_error(y_test_mv, y_pred_mv)\n",
    "mae = mean_absolute_error(y_test_mv, y_pred_mv)\n",
    "r2 = r2_score(y_test_mv, y_pred_mv)\n",
    "\n",
    "print(f'Error Cuadrático Medio: {np.sqrt(mse)}')\n",
    "print(f'Error Absoluto Medio: {mae}')\n",
    "print(f'R2: {r2}')"
   ]
  },
  {
   "cell_type": "markdown",
   "metadata": {},
   "source": [
    "#### Regresion Ridge"
   ]
  },
  {
   "cell_type": "markdown",
   "metadata": {},
   "source": [
    "Para este modelo vamos a calcular la correlación de todas las variables del dataset con nuestra variable a predecir, y vamos a tomar las 5 primeras para entrenar el modelo."
   ]
  },
  {
   "cell_type": "code",
   "execution_count": null,
   "metadata": {},
   "outputs": [],
   "source": [
    "matriz_correlacion = pasajeros_por_linea.corr()\n",
    "correlaciones = matriz_correlacion['BSAS_LINEA_009'].abs().sort_values(ascending=False)\n",
    "\n",
    "top_5_lineas = correlaciones.index[1:6] \n",
    "\n",
    "print(\"Lineas con mejor correlación con Linea 009:\", top_5_lineas)"
   ]
  },
  {
   "cell_type": "code",
   "execution_count": null,
   "metadata": {},
   "outputs": [],
   "source": [
    "dataset_modelo_ridge = pasajeros_por_linea[top_5_lineas.tolist() + ['BSAS_LINEA_009']]"
   ]
  },
  {
   "cell_type": "code",
   "execution_count": null,
   "metadata": {},
   "outputs": [],
   "source": [
    "dataset_modelo_ridge = dataset_modelo_ridge.rename(columns={'LINEA 101':'LINEA_101', 'LINEA 7':'LINEA_7', 'LINEA 107': 'LINEA_107'})"
   ]
  },
  {
   "cell_type": "code",
   "execution_count": null,
   "metadata": {},
   "outputs": [],
   "source": [
    "df_train, df_test = train_test_split(dataset_modelo_ridge, test_size=0.2, random_state=42)\n",
    "\n",
    "formula = 'BSAS_LINEA_009 ~ (LINEA_101+BSAS_LINEA_146+LINEA_7+BSAS_LINEA_024+LINEA_107)'\n",
    "y_ridge, X_ridge =  Formula(formula).get_model_matrix(df_train)"
   ]
  },
  {
   "cell_type": "markdown",
   "metadata": {},
   "source": [
    "Proponemos alphas arbitrarios para el modelo"
   ]
  },
  {
   "cell_type": "code",
   "execution_count": null,
   "metadata": {},
   "outputs": [],
   "source": [
    "alphas = np.array([0.1, 0.3, 0.5, 1, 3, 7])"
   ]
  },
  {
   "cell_type": "code",
   "execution_count": null,
   "metadata": {},
   "outputs": [],
   "source": [
    "cv = KFold(n_splits=5, random_state=42, shuffle=True) \n",
    "for alpha in alphas:\n",
    "    modeloRidge = linear_model.Ridge(alpha = alpha, fit_intercept = False)    \n",
    "    rmse = np.zeros(cv.get_n_splits()) \n",
    "\n",
    "    ind = 0\n",
    "    \n",
    "    for train_index, val_index in cv.split(X_ridge):\n",
    "        X_train, X_val, y_train, y_val = X_ridge.iloc[train_index], X_ridge.iloc[val_index], y_ridge.iloc[train_index], y_ridge.iloc[val_index]\n",
    "        modeloRidge.fit(X_train, y_train)\n",
    "\n",
    "        y_pred = modeloRidge.predict(X_val)\n",
    "        rmse[ind] = np.sqrt(mean_squared_error(y_val, y_pred))\n",
    "        ind = ind + 1\n",
    "\n",
    "    print(f\"Para alpha = {alpha:.5f} la raíz del Error Cuadratico Medio es: {rmse.mean():.5f}\")"
   ]
  },
  {
   "cell_type": "markdown",
   "metadata": {},
   "source": [
    "Hacemos una segunda corrida con valores cercanos al 7."
   ]
  },
  {
   "cell_type": "code",
   "execution_count": null,
   "metadata": {},
   "outputs": [],
   "source": [
    "alphas = np.array([5, 7, 9, 11, 13, 15])\n",
    "\n",
    "for alpha in alphas:\n",
    "    modeloRidge = linear_model.Ridge(alpha = alpha, fit_intercept = False)    \n",
    "    rmse = np.zeros(cv.get_n_splits()) \n",
    "\n",
    "    ind = 0\n",
    "\n",
    "    for train_index, val_index in cv.split(X_ridge):\n",
    "        X_train, X_val, y_train, y_val = X_ridge.iloc[train_index], X_ridge.iloc[val_index], y_ridge.iloc[train_index], y_ridge.iloc[val_index]\n",
    "        modeloRidge.fit(X_train, y_train)\n",
    "\n",
    "        y_pred = modeloRidge.predict(X_val)\n",
    "        rmse[ind] = np.sqrt(mean_squared_error(y_val, y_pred))\n",
    "        ind = ind + 1\n",
    "\n",
    "    print(f\"Para alpha = {alpha:.5f} la raiz del error cuadratico medio es: {rmse.mean():.5f}\")\n"
   ]
  },
  {
   "cell_type": "code",
   "execution_count": null,
   "metadata": {},
   "outputs": [],
   "source": [
    "alpha_optimo = 15\n",
    "\n",
    "modeloRidge = linear_model.Ridge(alpha = alpha_optimo, fit_intercept = False)    \n",
    "modeloRidge.fit(X_ridge, y_ridge)"
   ]
  },
  {
   "cell_type": "code",
   "execution_count": null,
   "metadata": {},
   "outputs": [],
   "source": [
    "y_test_ridge, X_test_ridge =  Formula(formula).get_model_matrix(df_test)\n",
    "        \n",
    "y_pred_ridge = modeloRidge.predict(X_test_ridge)"
   ]
  },
  {
   "cell_type": "code",
   "execution_count": null,
   "metadata": {},
   "outputs": [],
   "source": [
    "y_test_ridge_array = np.ravel(y_test_ridge)\n",
    "y_pred_ridge_array = np.ravel(y_pred_ridge)\n",
    "\n",
    "plt.figure(figsize=(10, 6))\n",
    "\n",
    "sns.scatterplot(x=y_test_ridge_array, y=y_pred_ridge_array)\n",
    "plt.plot([y_test_ridge_array.min(), y_test_ridge_array.max()], [y_test_ridge_array.min(), y_test_ridge_array.max()], 'k--', lw=3)\n",
    "plt.xlabel('Valores Reales')\n",
    "plt.ylabel('Valores Predichos')\n",
    "plt.title('Regresión Ridge')\n",
    "\n",
    "plt.show()"
   ]
  },
  {
   "cell_type": "code",
   "execution_count": null,
   "metadata": {},
   "outputs": [],
   "source": [
    "mse = mean_squared_error(y_test_ridge, y_pred_ridge)\n",
    "mae = mean_absolute_error(y_test_ridge, y_pred_ridge)\n",
    "r2 = r2_score(y_test_ridge, y_pred_ridge)\n",
    "\n",
    "print(f'Error Cuadrático Medio: {np.sqrt(mse)}')\n",
    "print(f'Error Absoluto Medio: {mae}')\n",
    "print(f'R2: {r2}')"
   ]
  },
  {
   "cell_type": "code",
   "execution_count": null,
   "metadata": {},
   "outputs": [],
   "source": [
    "coefs = modeloRidge.coef_[0].tolist()\n",
    "coefs = coefs[1:]"
   ]
  },
  {
   "cell_type": "code",
   "execution_count": null,
   "metadata": {},
   "outputs": [],
   "source": [
    "formula_Ridge = f'Y = {intercept:.1f} '\n",
    "for i in range(len(top_5_lineas)):\n",
    "    formula_Ridge += f'+ ({coefs[i]:.2} * {top_5_lineas[i]}) '\n",
    "\n",
    "formula_Ridge"
   ]
  }
 ],
 "metadata": {
  "kernelspec": {
   "display_name": "venv",
   "language": "python",
   "name": "python3"
  },
  "language_info": {
   "codemirror_mode": {
    "name": "ipython",
    "version": 3
   },
   "file_extension": ".py",
   "mimetype": "text/x-python",
   "name": "python",
   "nbconvert_exporter": "python",
   "pygments_lexer": "ipython3",
   "version": "3.12.3"
  }
 },
 "nbformat": 4,
 "nbformat_minor": 2
}
