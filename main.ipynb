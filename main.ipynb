{
 "cells": [
  {
   "cell_type": "code",
   "execution_count": null,
   "metadata": {},
   "outputs": [],
   "source": [
    "import pandas as pd\n",
    "import seaborn as sns\n",
    "import seaborn.objects as so\n",
    "import datetime as dt\n",
    "import matplotlib.pyplot as plt\n",
    "from sklearn import linear_model\n",
    "from sklearn.metrics import mean_squared_error, r2_score, mean_absolute_error\n",
    "from sklearn.model_selection import train_test_split, KFold, cross_val_score\n",
    "from matplotlib.ticker import FuncFormatter\n",
    "from formulaic import model_matrix, Formula\n",
    "import numpy as np"
   ]
  },
  {
   "cell_type": "markdown",
   "metadata": {},
   "source": [
    "## Procesamiento de datos"
   ]
  },
  {
   "cell_type": "code",
   "execution_count": null,
   "metadata": {},
   "outputs": [],
   "source": [
    "ruta_datasets = 'data/'"
   ]
  },
  {
   "cell_type": "code",
   "execution_count": null,
   "metadata": {},
   "outputs": [],
   "source": [
    "dataset_sube20 = pd.read_csv(ruta_datasets+'dat-ab-usos-2020.csv')\n",
    "dataset_sube21 = pd.read_csv(ruta_datasets+'dat-ab-usos-2021.csv')\n",
    "dataset_sube22 = pd.read_csv(ruta_datasets+'dat-ab-usos-2022.csv')\n",
    "dataset_sube = pd.read_csv(ruta_datasets+'sube-2023.csv')\n",
    "dataset_sube_regresion = pd.read_csv(ruta_datasets+'sube-2023-regresion.csv')\n",
    "poblacion_provincias = pd.read_excel(ruta_datasets+'poblacion_provincias.xlsx')\n",
    "superficie_provincias = pd.read_excel(ruta_datasets+'superficie_provincias.xlsx')"
   ]
  },
  {
   "cell_type": "code",
   "execution_count": null,
   "metadata": {},
   "outputs": [],
   "source": [
    "df_concatenado = pd.concat([dataset_sube20,dataset_sube21,dataset_sube22,dataset_sube])"
   ]
  },
  {
   "cell_type": "markdown",
   "metadata": {},
   "source": [
    "### Ejercicio 1"
   ]
  },
  {
   "cell_type": "markdown",
   "metadata": {},
   "source": [
    "#### a)"
   ]
  },
  {
   "cell_type": "markdown",
   "metadata": {},
   "source": [
    "Describimos el dataset"
   ]
  },
  {
   "cell_type": "code",
   "execution_count": null,
   "metadata": {},
   "outputs": [],
   "source": [
    "dataset_sube.info()"
   ]
  },
  {
   "cell_type": "markdown",
   "metadata": {},
   "source": [
    "Transformamos la columna dia_transporte a datetime"
   ]
  },
  {
   "cell_type": "code",
   "execution_count": null,
   "metadata": {},
   "outputs": [],
   "source": [
    "dataset_sube['DIA_TRANSPORTE'] = pd.to_datetime(dataset_sube['DIA_TRANSPORTE'], format='%Y-%m-%d')"
   ]
  },
  {
   "cell_type": "markdown",
   "metadata": {},
   "source": [
    "#### b)"
   ]
  },
  {
   "cell_type": "markdown",
   "metadata": {},
   "source": [
    "##### i."
   ]
  },
  {
   "cell_type": "markdown",
   "metadata": {},
   "source": [
    "Creamos la columna fecha_dia con el nombre del día de la semana"
   ]
  },
  {
   "cell_type": "code",
   "execution_count": null,
   "metadata": {},
   "outputs": [],
   "source": [
    "dias = ['Lunes', 'Martes', 'Miércoles', 'Jueves', 'Viernes', 'Sábado', 'Domingo']\n",
    "def obtener_nombre_dia(fecha_dia):\n",
    "    return dias[fecha_dia.weekday()]"
   ]
  },
  {
   "cell_type": "code",
   "execution_count": null,
   "metadata": {},
   "outputs": [],
   "source": [
    "dataset_sube['FECHA_DIA'] = dataset_sube['DIA_TRANSPORTE'].apply(obtener_nombre_dia)"
   ]
  },
  {
   "cell_type": "markdown",
   "metadata": {},
   "source": [
    "##### ii."
   ]
  },
  {
   "cell_type": "markdown",
   "metadata": {},
   "source": [
    "Creamos la columna fecha_ordinal donde asignamos el numero de día del año a cada fecha"
   ]
  },
  {
   "cell_type": "code",
   "execution_count": null,
   "metadata": {},
   "outputs": [],
   "source": [
    "dataset_sube['FECHA_ORDINAL'] = dataset_sube['DIA_TRANSPORTE'].dt.day_of_year"
   ]
  },
  {
   "cell_type": "markdown",
   "metadata": {},
   "source": [
    "##### iii."
   ]
  },
  {
   "cell_type": "markdown",
   "metadata": {},
   "source": [
    "Creamos la columna fecha_mes con el numero de mes para cada fecha"
   ]
  },
  {
   "cell_type": "code",
   "execution_count": null,
   "metadata": {},
   "outputs": [],
   "source": [
    "dataset_sube['FECHA_MES'] = dataset_sube['DIA_TRANSPORTE'].dt.month"
   ]
  },
  {
   "cell_type": "markdown",
   "metadata": {},
   "source": [
    "### Ejercicio 2"
   ]
  },
  {
   "cell_type": "markdown",
   "metadata": {},
   "source": [
    "Creamos un dataframe que contiene solo los datos del AMBA y elimina los datos preliminares"
   ]
  },
  {
   "cell_type": "code",
   "execution_count": null,
   "metadata": {},
   "outputs": [],
   "source": [
    "datos_amba = dataset_sube[dataset_sube['AMBA']=='SI']\n",
    "datos_amba = datos_amba[datos_amba['DATO_PRELIMINAR']=='NO']"
   ]
  },
  {
   "cell_type": "markdown",
   "metadata": {},
   "source": [
    "Acomodamos el orden de las columnas y les corregimos el formato del nombre"
   ]
  },
  {
   "cell_type": "code",
   "execution_count": null,
   "metadata": {},
   "outputs": [],
   "source": [
    "datos_amba = datos_amba[['DIA_TRANSPORTE', 'FECHA_DIA', 'FECHA_MES','FECHA_ORDINAL', 'JURISDICCION', 'LINEA','CANTIDAD', 'TIPO_TRANSPORTE']]"
   ]
  },
  {
   "cell_type": "code",
   "execution_count": null,
   "metadata": {},
   "outputs": [],
   "source": [
    "datos_amba = datos_amba.rename(columns={\"DIA_TRANSPORTE\": \"fecha\", \"FECHA_DIA\": \"fecha_dia\",\"FECHA_MES\" : \"fecha_mes\", \"FECHA_ORDINAL\":\"fecha_ordinal\",\"JURISDICCION\": \"jurisdiccion\", \"LINEA\":'linea',\"CANTIDAD\":\"pasajeros\", \"TIPO_TRANSPORTE\": \"tipo_transporte\"})"
   ]
  },
  {
   "cell_type": "markdown",
   "metadata": {},
   "source": [
    "Resultado final:"
   ]
  },
  {
   "cell_type": "code",
   "execution_count": null,
   "metadata": {},
   "outputs": [],
   "source": [
    "datos_amba.head()"
   ]
  },
  {
   "cell_type": "markdown",
   "metadata": {},
   "source": [
    "### Ejercicio 3"
   ]
  },
  {
   "cell_type": "markdown",
   "metadata": {},
   "source": [
    "#### a)"
   ]
  },
  {
   "cell_type": "markdown",
   "metadata": {},
   "source": [
    "Calculamos la proporcion de pasajeros por transporte en 2023"
   ]
  },
  {
   "cell_type": "code",
   "execution_count": null,
   "metadata": {},
   "outputs": [],
   "source": [
    "pasajeros_totales = sum(datos_amba['pasajeros'])"
   ]
  },
  {
   "cell_type": "code",
   "execution_count": null,
   "metadata": {},
   "outputs": [],
   "source": [
    "pasajeros_por_transporte = datos_amba.groupby('tipo_transporte')['pasajeros'].sum()"
   ]
  },
  {
   "cell_type": "code",
   "execution_count": null,
   "metadata": {},
   "outputs": [],
   "source": [
    "proporcion_pasajeros = ((pasajeros_por_transporte/pasajeros_totales)*100).round(1)\n",
    "proporcion_pasajeros = proporcion_pasajeros.map(lambda x: f\"{x}%\")\n",
    "proporcion_pasajeros"
   ]
  },
  {
   "cell_type": "markdown",
   "metadata": {},
   "source": [
    "#### b)"
   ]
  },
  {
   "cell_type": "markdown",
   "metadata": {},
   "source": [
    "Creamos un dataset con los datos del Subte, agrupamos por mes y linea, y obtenemos el valor maximo"
   ]
  },
  {
   "cell_type": "code",
   "execution_count": null,
   "metadata": {},
   "outputs": [],
   "source": [
    "datos_subte = datos_amba[datos_amba['tipo_transporte'] == 'SUBTE']\n",
    "datos_subte = datos_subte[['fecha_mes','linea','pasajeros']]"
   ]
  },
  {
   "cell_type": "code",
   "execution_count": null,
   "metadata": {},
   "outputs": [],
   "source": [
    "datos_subte_mesLinea = datos_subte.groupby(['fecha_mes','linea'])['pasajeros'].sum()"
   ]
  },
  {
   "cell_type": "code",
   "execution_count": null,
   "metadata": {},
   "outputs": [],
   "source": [
    "mes_linea_maxPasajeros = pd.DataFrame(datos_subte_mesLinea).idxmax()"
   ]
  },
  {
   "cell_type": "markdown",
   "metadata": {},
   "source": [
    "Tupla (mes, línea de subte) donde viajó la mayor cantidad de pasajeros"
   ]
  },
  {
   "cell_type": "code",
   "execution_count": null,
   "metadata": {},
   "outputs": [],
   "source": [
    "mes_linea_maxPasajeros.iloc[0]"
   ]
  },
  {
   "cell_type": "markdown",
   "metadata": {},
   "source": [
    "#### c)"
   ]
  },
  {
   "cell_type": "markdown",
   "metadata": {},
   "source": [
    "Creamos el dataset solo con los días habiles, calculamos el desvío estandar para cada día y vemos el menor"
   ]
  },
  {
   "cell_type": "code",
   "execution_count": null,
   "metadata": {},
   "outputs": [],
   "source": [
    "dias_habiles = ['Lunes', 'Martes', 'Miércoles', 'Jueves', 'Viernes']\n",
    "datos_amba_habiles = datos_amba[datos_amba['fecha_dia'].isin(dias_habiles)]"
   ]
  },
  {
   "cell_type": "code",
   "execution_count": null,
   "metadata": {},
   "outputs": [],
   "source": [
    "desvios = []\n",
    "for dia_habil in dias_habiles:\n",
    "    desvio_estandar = datos_amba_habiles[datos_amba_habiles['fecha_dia']==dia_habil]['pasajeros'].std().round(1)\n",
    "    desvio_dia = (dia_habil, desvio_estandar)\n",
    "    desvios.append(desvio_dia)\n",
    "print(desvios)"
   ]
  },
  {
   "cell_type": "code",
   "execution_count": null,
   "metadata": {},
   "outputs": [],
   "source": [
    "dia_menos_desvio = min(desvios, key=lambda x: x[1])\n",
    "dia_menos_desvio[0]"
   ]
  },
  {
   "cell_type": "markdown",
   "metadata": {},
   "source": [
    "## Analisis exploratorio"
   ]
  },
  {
   "cell_type": "markdown",
   "metadata": {},
   "source": [
    "### Ejercicio 4"
   ]
  },
  {
   "cell_type": "markdown",
   "metadata": {},
   "source": [
    "##### Gráfico 1"
   ]
  },
  {
   "cell_type": "code",
   "execution_count": null,
   "metadata": {},
   "outputs": [],
   "source": [
    "df_concatenado['DIA_TRANSPORTE'] = pd.to_datetime(df_concatenado['DIA_TRANSPORTE'], format='%Y-%m-%d')\n",
    "df_concatenado['AÑO'] = df_concatenado['DIA_TRANSPORTE'].dt.year\n",
    "so.Plot(data=df_concatenado, x=\"AÑO\", y=\"CANTIDAD\", color = \"TIPO_TRANSPORTE\").add(so.Bar(), so.Agg(\"sum\"), so.Dodge()).scale(x=so.Nominal()).label(title=\"Cantidad de pasajeros por tipo de transporte por año\", x=\"Año\", y=\"Cantidad de pasajeros\", color= \"transporte\" )"
   ]
  },
  {
   "cell_type": "markdown",
   "metadata": {},
   "source": [
    "En este grafico podemos ver que el uso del transporte publico incrementa año tras año, si bien hay que tener en cuenta que en el año 2020 el uso de este bajo abruptamente debido a la pandemia de COVID-19, la cual se extendio hacia inicios del 2021 en muchos sectores. Las oficinas al igual que los establecimientos educativos adoptaron modos de trabajo virtual, lo que consecuentemente hizo que la poblacion tenga que salir menos de sus casas y por lo tanto tomar menos colectivos, subtes, trenes y lanchas. A partir del 2022 se ve un fuerte incremento del uso de dichos transportes con la pandemia ya dejada de lado, es probable que con los incrementos de los costos de mantener un vehiculo propio en los proximos años sigan subiendo los numeros de pasajeros."
   ]
  },
  {
   "cell_type": "markdown",
   "metadata": {},
   "source": [
    "##### Gráfico 2"
   ]
  },
  {
   "cell_type": "code",
   "execution_count": null,
   "metadata": {},
   "outputs": [],
   "source": [
    "# Filtro los datos solo para lanchas\n",
    "lanchas_data = df_concatenado[df_concatenado['TIPO_TRANSPORTE'] == 'LANCHAS']\n",
    "\n",
    "# Creo una función para obtener las medianas por año\n",
    "def obtener_medianas_por_año(data, year):\n",
    "    data_año = data[data['AÑO'] == year]\n",
    "    medianas = data_año.groupby('LINEA')['CANTIDAD'].median().reset_index()\n",
    "    return medianas.sort_values(by='LINEA', ascending=False)\n",
    "\n",
    "# Obtengo las medianas para cada año en especifico\n",
    "lanchas_medianas20 = obtener_medianas_por_año(lanchas_data, 2020)\n",
    "lanchas_medianas21 = obtener_medianas_por_año(lanchas_data, 2021)\n",
    "lanchas_medianas22 = obtener_medianas_por_año(lanchas_data, 2022)\n",
    "lanchas_medianas23 = obtener_medianas_por_año(lanchas_data, 2023)\n",
    "\n",
    "# Creo una nueva figura y ejes para el gráfico combinado\n",
    "fig, axes = plt.subplots(2, 2, figsize=(15, 10))\n",
    "\n",
    "# Gráfico 2020\n",
    "axes[0, 0].bar(lanchas_medianas20['LINEA'], lanchas_medianas20['CANTIDAD'], color='b')\n",
    "axes[0, 0].set_title('Mediana de pasajeros por línea de lancha (2020)')\n",
    "axes[0, 0].set_xlabel('Línea de lancha')\n",
    "axes[0, 0].set_ylabel('Cantidad de pasajeros (mediana)')\n",
    "plt.setp(axes[0, 0].get_xticklabels(), rotation=45, ha='right')\n",
    "\n",
    "# Gráfico 2021\n",
    "axes[0, 1].bar(lanchas_medianas21['LINEA'], lanchas_medianas21['CANTIDAD'], color='g')\n",
    "axes[0, 1].set_title('Mediana de pasajeros por línea de lancha (2021)')\n",
    "axes[0, 1].set_xlabel('Línea de lancha')\n",
    "axes[0, 1].set_ylabel('Cantidad de pasajeros (mediana)')\n",
    "plt.setp(axes[0, 1].get_xticklabels(), rotation=45, ha='right')\n",
    "\n",
    "# Gráfico 2022\n",
    "axes[1, 0].bar(lanchas_medianas22['LINEA'], lanchas_medianas22['CANTIDAD'], color='r')\n",
    "axes[1, 0].set_title('Mediana de pasajeros por línea de lancha (2022)')\n",
    "axes[1, 0].set_xlabel('Línea de lancha')\n",
    "axes[1, 0].set_ylabel('Cantidad de pasajeros (mediana)')\n",
    "plt.setp(axes[1, 0].get_xticklabels(), rotation=45, ha='right')\n",
    "\n",
    "# Gráfico 2023\n",
    "axes[1, 1].bar(lanchas_medianas23['LINEA'], lanchas_medianas23['CANTIDAD'], color='purple')\n",
    "axes[1, 1].set_title('Mediana de pasajeros por línea de lancha (2023)')\n",
    "axes[1, 1].set_xlabel('Línea de lancha')\n",
    "axes[1, 1].set_ylabel('Cantidad de pasajeros (mediana)')\n",
    "plt.setp(axes[1, 1].get_xticklabels(), rotation=45, ha='right')\n",
    "\n",
    "# Ajusto el espacio entre los subgráficos\n",
    "plt.tight_layout()\n",
    "\n",
    "# Muestro el gráfico\n",
    "plt.show()"
   ]
  },
  {
   "cell_type": "markdown",
   "metadata": {},
   "source": [
    "Estos gráficos no solo muestran cómo varió la mediana de pasajeros en las diferentes líneas de lancha durante los años 2020, 2021, 2022 y 2023, sino que también reflejan las posibles influencias externas que han afectado el uso del transporte acuático en los últimos años. En el gráfico del año 2020 se puede observar que la mediana es significativamente menor que la de los siguientes años ya que por la pandemia covid-19, la mayoría de personas no podían salir de sus casas y por ende se redujo el uso las lanchas (en el próximo gráfico analizaremos este interesante año más en detalle). En 2021, la mediana de pasajeros se estabilizó en comparación con 2020, las diferencias entre las líneas no son tan marcadas, lo que podría significar una distribución más uniforme del uso de las lanchas. Esto puede ser resultado de cambios en las políticas de transporte o en las rutas. En 2022, se nota un aumento en la mediana de pasajeros en varias líneas, esto nos muestra una posible recuperación en el uso de las lanchas. Este incremento podría estar relacionado con la reactivación económica y un regreso gradual a la normalidad post pandemia. En 2023, se puede ver un gran aumento en la mediana de la cantidad de pasajeros en comparación a los años anteriores, se podría decir que efectivamente se esta normalizando la movilidad y el uso de los transportes acuaticos despues de la pandemia."
   ]
  },
  {
   "cell_type": "markdown",
   "metadata": {},
   "source": [
    "##### Gráfico 3"
   ]
  },
  {
   "cell_type": "code",
   "execution_count": null,
   "metadata": {},
   "outputs": [],
   "source": [
    "sns.barplot(data=datos_amba, x='fecha_dia', y='pasajeros', estimator='sum', order=dias, errorbar=None)"
   ]
  },
  {
   "cell_type": "markdown",
   "metadata": {},
   "source": [
    "Este gráfico nos muestra la cantidad total de pasajeros en AMBA en los días de la semana. En conclusión, como mencionamos en la conclusión del gráfico anterior podemos observar que el Miércoles es el día en el que viaja la mayor cantidad de gente, seguido vienen los Martes y Jueves, asumimos que esto se debe a que luego de la pandemia y con el comienzo del trabajo virtual o tambien llamado home office, las empresas continuaron con esta metodología de trabajo híbrido (virtual y presencial) en la que los trabajadores eligen no ir presencial los Lunes y Viernes que son los dias pre y post fin de semana, esto se puede ver claramente reflejado en el uso del transporte público ya que estos días baja radicalmente el uso de la SUBE. Luego se puede ver que los sábados el uso del transporte publico se reduce pero la gran diferencia la marca el domingo, un dia en donde la gente prefiere quedarse en sus casas y no utilizar el transporte."
   ]
  },
  {
   "cell_type": "markdown",
   "metadata": {},
   "source": [
    "##### Gráfico 4"
   ]
  },
  {
   "cell_type": "code",
   "execution_count": null,
   "metadata": {},
   "outputs": [],
   "source": [
    "pivot_table = datos_amba.pivot_table(\n",
    "    values='pasajeros', \n",
    "    index='fecha_dia', \n",
    "    columns='tipo_transporte', \n",
    "    aggfunc='sum', \n",
    "    fill_value=0,\n",
    ")\n",
    "\n",
    "def thousands(x, pos):\n",
    "    return '%1.0fK' % (x * 1e-3)\n",
    "\n",
    "plt.figure(figsize=(10, 6))\n",
    "heatmap = sns.heatmap(pivot_table, annot=True, fmt='d', cmap='viridis')\n",
    "plt.title('Heatmap de Pasajeros por Tipo de Transporte y Día de la Semana')\n",
    "plt.xlabel('Tipo de Transporte')\n",
    "plt.ylabel('Día de la Semana')\n",
    "\n",
    "for t in heatmap.texts:\n",
    "    t.set_text(thousands(float(t.get_text()), None))\n",
    "    \n",
    "plt.show()"
   ]
  },
{
   "cell_type": "markdown",
   "metadata": {},
   "source": [
    "En este gráfico podemos observar la cantidad total de pasajeros en miles (K), por tipo de transporte y día de la semana, usando los datos de AMBA. Podemos resaltar que en los días de semana, es decir, los días laborales, hay mayor cantidad de pasajeros en todos los transportes públicos en comparación a los fines de semana. El día de mayor uso de transporte en general es el Miércoles pero esto lo vamos a analizar en un gráfico siguiente. Tambien tenemos que destacar la diferencia de cantdad de pasajeros entre los tipos de transporte, por ejemplo se nota fuertemente que la mayor cantidad de personas utilizan los colectivos en vez de subte o tren, esto se debe a que los colectivos tienen más lineas que los otros dos medios y que llegan a más lugares, como sabemos los subtes solo existen en CABA y aunque los trenes si los podemos encontrar en varias provincias, no en todas y esto afecta a la cantidad de usos de estos medios."
   ]
  },
  {
   "cell_type": "markdown",
   "metadata": {},
   "source": [
    "##### Gráfico 5"
   ]
  },
  {
   "cell_type": "code",
   "execution_count": null,
   "metadata": {},
   "outputs": [],
   "source": [
    "agrupado_provincia = dataset_sube.groupby(['PROVINCIA'])['CANTIDAD'].sum().reset_index()"
   ]
  },
  {
   "cell_type": "code",
   "execution_count": null,
   "metadata": {},
   "outputs": [],
   "source": [
    "agrupado_provincia = agrupado_provincia.merge(poblacion_provincias,how='left', on='PROVINCIA')"
   ]
  },
  {
   "cell_type": "code",
   "execution_count": null,
   "metadata": {},
   "outputs": [],
   "source": [
    "agrupado_provincia_interior = agrupado_provincia[(agrupado_provincia['PROVINCIA']!='BUENOS AIRES') & (agrupado_provincia['PROVINCIA']!='JN')]"
   ]
  },
  {
   "cell_type": "code",
   "execution_count": null,
   "metadata": {},
   "outputs": [],
   "source": [
    "plt.figure(figsize=(12, 6))\n",
    "scatter = sns.scatterplot(data=agrupado_provincia_interior, x='POBLACION', y='CANTIDAD', hue='PROVINCIA', palette='viridis', legend=False)\n",
    "for index, row in agrupado_provincia_interior.iterrows():\n",
    "    scatter.text(row['POBLACION'], row['CANTIDAD'], row['PROVINCIA'], ha='left', fontsize=5, \n",
    "                 va='bottom', rotation_mode='anchor', \n",
    "                 bbox=dict(facecolor='white', alpha=0.5))\n",
    "plt.xlabel('Población Total')\n",
    "plt.ylabel('Cantidad de Pasajeros')\n",
    "plt.title('Relación entre Pasajeros y Población por Provincia')\n",
    "# plt.legend(title='Provincia', bbox_to_anchor=(1.05, 1), loc='upper left')\n",
    "plt.show()"
   ]
  },
  {
   "cell_type": "markdown",
   "metadata": {},
   "source": [
    "##### Gráfico 6"
   ]
  },
  {
   "cell_type": "code",
   "execution_count": null,
   "metadata": {},
   "outputs": [],
   "source": [
    "# Creo una columna para el mes en el DataFrame del año 2020\n",
    "dataset_sube20['DIA_TRANSPORTE'] = pd.to_datetime(dataset_sube20['DIA_TRANSPORTE'])\n",
    "dataset_sube20['MES'] = dataset_sube20['DIA_TRANSPORTE'].dt.month\n",
    "\n",
    "# Filtro los datos solo para lanchas\n",
    "lanchas_data_2020 = dataset_sube20[dataset_sube20['TIPO_TRANSPORTE'] == 'LANCHAS']\n",
    "\n",
    "# Obtengo la suma de pasajeros por mes\n",
    "pasajeros_por_mes = lanchas_data_2020.groupby('MES')['CANTIDAD'].sum().reset_index()\n",
    "\n",
    "# Creo el gráfico\n",
    "plt.figure(figsize=(10, 6))\n",
    "plt.bar(pasajeros_por_mes['MES'], pasajeros_por_mes['CANTIDAD'], color='r')\n",
    "plt.title('Cantidad de pasajeros por mes en lancha - 2020')\n",
    "plt.xlabel('Mes')\n",
    "plt.ylabel('Cantidad de pasajeros')\n",
    "plt.xticks(pasajeros_por_mes['MES'], ['Enero', 'Febrero', 'Marzo', 'Abril', 'Mayo', 'Junio', 'Julio', 'Agosto', 'Septiembre', 'Octubre', 'Noviembre', 'Diciembre'], rotation=45)\n",
    "plt.grid(axis='y')\n",
    "\n",
    "# Muestro el gráfico\n",
    "plt.tight_layout()\n",
    "plt.show()"
   ]
  },
  {
   "cell_type": "markdown",
   "metadata": {},
   "source": [
    "En este gráfico podemos observar mejor cómo afectó la pandemia en el uso de las lanchas. Más allá de que generalmente en los meses del verano (Enero, Febrero, Marzo) se utilizan las lanchas en mayor cantidad que en otros meses del año, ya que el clima es caluroso y la gente elige pasar tiempo en el rio, hay que tener en cuenta que en particular en el 2020, en el mes de Marzo inició la pandemia, por ende esto hace que la diferencia de la mediana de cantidad de pasajeros entre los meses del verano y los demás meses del año sea mayor que lo normal. Luego se puede observar un aumento gradual en la segunda mitad del año, esto podría indicar una recuperación en el uso de las lanchas a medida que las restricciones se reducian y las personas comenzaban a retomar sus actividades."
   ]
  },
  {
   "cell_type": "markdown",
   "metadata": {},
   "source": [
    "##### Gráfico 7"
   ]
  },
  {
   "cell_type": "code",
   "execution_count": null,
   "metadata": {},
   "outputs": [],
   "source": [
    "datosSinBAJN = dataset_sube[(dataset_sube[\"PROVINCIA\"] != \"JN\") & (dataset_sube[\"PROVINCIA\"] != \"BUENOS AIRES\")]\n",
    "datos_agrupados = datosSinBAJN.groupby(['PROVINCIA', 'TIPO_TRANSPORTE'])['CANTIDAD'].sum().unstack()\n",
    "\n",
    "datos_agrupados.plot(kind='bar', stacked=True, figsize=(10, 6))\n",
    "plt.title('Cantidad de pasajeros en colectivo por provincia (2023)')\n",
    "plt.xlabel('Provincia')\n",
    "plt.ylabel('Cantidad de pasajeros')\n",
    "plt.xticks(rotation=45, ha='right')\n",
    "plt.legend(title='Tipo de transporte')\n",
    "plt.tight_layout()\n",
    "plt.show()"
   ]
  },
  {
   "cell_type": "markdown",
   "metadata": {},
   "source": [
    "En este gráfico podemos observar la cantidad total de pasajeros que viajaron en colectivo en las provincias de Argentina en 2023, excluyendo a Buenos Aires y JN ya que estos mostraban mucha diferencia en la cantidad de pasajeros y decidimos graficarlos aparte para así poder observar una distribución más equilibrada entre las demás provincias. En conclusión, podemos observar diferencias notables en el uso del colectivo en las diferentes provincias. Las provincias con mayor cantidad de pasajeros en colectivo probablemente cuentan con una mejor infraestructura y accesibilidad en términos de rutas y disponibilidad de transporte público. Podemos notar que en Córdoba no hay ningun registro de uso de la sube en 2023, luego de hacer una busqueda logramos descubrir que en esta provincia se implementó la SUBE a principios del 2024, por lo tanto no hay datos al respecto. Podemos destacar Mendoza, la cual posee mayor uso de la SUBE en comparación a las demas provincias, esto puede deberse a varios factores como la cantidad de poblacion que vive en la provincia, una infraestructura de transporte público más desarrollada, mayor apoyo gubernamental y subsidios."
   ]
  },
  {
   "cell_type": "markdown",
   "metadata": {},
   "source": [
    "##### Gráfico 8"
   ]
  },
  {
   "cell_type": "code",
   "execution_count": null,
   "metadata": {},
   "outputs": [],
   "source": [
    "datosSoloBAJN = dataset_sube[dataset_sube[\"TIPO_TRANSPORTE\"]==\"COLECTIVO\"]\n",
    "datosSoloBAJN = datosSoloBAJN[(datosSoloBAJN[\"PROVINCIA\"] == \"JN\") | (dataset_sube[\"PROVINCIA\"] == \"BUENOS AIRES\")]\n",
    "datos_agrupados2 = datosSoloBAJN.groupby(['PROVINCIA', 'TIPO_TRANSPORTE'])['CANTIDAD'].sum().unstack()\n",
    "\n",
    "datos_agrupados2.plot(kind='bar', stacked=True, figsize=(5, 5))\n",
    "plt.title('Cantidad de pasajeros en colectivos en BUENOS AIRES Y JN (2023)')\n",
    "plt.xlabel('Provincia')\n",
    "plt.ylabel('Cantidad de pasajeros')\n",
    "plt.xticks(rotation=45, ha='right')\n",
    "plt.tight_layout()\n",
    "plt.show()"
   ]
  },
  {
   "cell_type": "markdown",
   "metadata": {},
   "source": [
    "El gráfico de barras muestra la cantidad total de pasajeros que viajaron en colectivos en la provincia de Buenos Aires y en Jurisdicción Nacional durante el año 2023. Para este analizis hay que tener en cuenta que Buenos Aires es la capital de Argentina y uno de los centros más importantes del país, donde vive una gran parte de la población y donde se realizan gran parte de las actividades económicas, esto se refleja en la alta demanda de transporte público. La Jurisdicción Nacional, incluye áreas bajo jurisdicción directa del gobierno federal, puede presentar características específicas en cuanto a la distribución de la población, el tipo de actividades y la disponibilidad de transporte público. Estas caracteristicas hacen posiblemente que sea menor la cantidad de pasajeros en colectivos en comparación con Buenos Aires. Además queremos agregar que observamos que la linea BS_AS_LINEA_514 no tiene asignada ninguna provincia (nan), luego de hacer una investigacion, en el dataset exportado desde la página correspondiente vemos que esta linea tiene asignada la provincia de \"BUENOS AIRES\", igualmente teniendo en cuenta esta diferencia en los datos, podemos afirmar que esto no cambia nuestras conclusiones anteriores ya que se sumarian más datos a la provincia de Buenos Aires que es la que tiene mayor cantidad de información."
   ]
  },
  {
   "cell_type": "code",
   "execution_count": null,
   "metadata": {},
   "outputs": [],
   "source": [
    "#Reviso si hay datos que en la columna de provincia sean nan y que no sean subte ya que se que estos no tienen asignada ninguna provincia\n",
    "dataset_sube[(dataset_sube[\"PROVINCIA\"].isna()) & (dataset_sube[\"TIPO_TRANSPORTE\"] != \"SUBTE\")]"
   ]
  },
  {
   "cell_type": "markdown",
   "metadata": {},
   "source": [
    "## Modelado"
   ]
  },
  {
   "cell_type": "markdown",
   "metadata": {},
   "source": [
    "### Ejercicio 5"
   ]
  },
  {
   "cell_type": "markdown",
   "metadata": {},
   "source": [
    "Creamos el dataset para los modelos y hacemos preprocesamiento"
   ]
  },
  {
   "cell_type": "code",
   "execution_count": null,
   "metadata": {},
   "outputs": [],
   "source": [
    "datos_ColectivoJN = dataset_sube_regresion[(dataset_sube_regresion['TIPO_TRANSPORTE']=='COLECTIVO') & (dataset_sube_regresion['PROVINCIA']=='JN') & (dataset_sube_regresion['AMBA']=='SI')]\n",
    "cols = datos_ColectivoJN.LINEA.unique()"
   ]
  },
  {
   "cell_type": "code",
   "execution_count": null,
   "metadata": {},
   "outputs": [],
   "source": [
    "pasajeros_por_linea = pd.DataFrame()\n",
    "for col in  cols:\n",
    "    datos_linea = datos_ColectivoJN[datos_ColectivoJN.LINEA ==col][[\"DIA_TRANSPORTE\", \"CANTIDAD\"]]\n",
    "    datos_linea =datos_linea.set_index(\"DIA_TRANSPORTE\").rename(columns ={\"CANTIDAD\" : col})\n",
    "    pasajeros_por_linea = pd.concat([pasajeros_por_linea ,datos_linea], axis = 1)"
   ]
  },
  {
   "cell_type": "code",
   "execution_count": null,
   "metadata": {},
   "outputs": [],
   "source": [
    "pasajeros_por_linea = pasajeros_por_linea.dropna(axis=1)"
   ]
  },
  {
   "cell_type": "code",
   "execution_count": null,
   "metadata": {},
   "outputs": [],
   "source": [
    "pasajeros_por_linea.head()"
   ]
  },
  {
   "cell_type": "markdown",
   "metadata": {},
   "source": [
    "#### Regresion Lineal Univariada"
   ]
  },
  {
   "cell_type": "code",
   "execution_count": null,
   "metadata": {},
   "outputs": [],
   "source": [
    "columna_regresion_univ = top_5_columns[0]"
   ]
  },
  {
   "cell_type": "code",
   "execution_count": null,
   "metadata": {},
   "outputs": [],
   "source": [
    "predictor_univ = pasajeros_por_linea[[columna_regresion_univ]]"
   ]
  },
  {
   "cell_type": "code",
   "execution_count": null,
   "metadata": {},
   "outputs": [],
   "source": [
    "modelo_univ = linear_model.LinearRegression()    \n",
    "modelo_univ.fit(predictor_univ, pasajeros_por_linea[['BSAS_LINEA_009']])"
   ]
  },
  {
   "cell_type": "code",
   "execution_count": null,
   "metadata": {},
   "outputs": [],
   "source": [
    "y_pred_univ = modelo_univ.predict(predictor_univ)\n",
    "r2_score(pasajeros_por_linea[['BSAS_LINEA_009']], y_pred_univ)"
   ]
  },
  {
   "cell_type": "code",
   "execution_count": null,
   "metadata": {},
   "outputs": [],
   "source": [
    "mse = mean_squared_error(pasajeros_por_linea[['BSAS_LINEA_009']], y_pred_univ)\n",
    "mae = mean_absolute_error(pasajeros_por_linea[['BSAS_LINEA_009']], y_pred_univ)\n",
    "r2 = r2_score(pasajeros_por_linea[['BSAS_LINEA_009']], y_pred_univ)\n",
    "\n",
    "print(f'Error Cuadrático Medio: {np.sqrt(mse)}')\n",
    "print(f'Error Absoluto Medio: {mae}')\n",
    "print(f'R2: {r2}')"
   ]
  },
  {
   "cell_type": "markdown",
   "metadata": {},
   "source": [
    "#### Regresion Lineal Multivariada"
   ]
  },
  {
   "cell_type": "markdown",
   "metadata": {},
   "source": [
    "En este caso, elejimos 5 columnas para entrenar el modelo en base a la varianza de los datos. Primero calculamos la varianza de la variable a predecir, Linea 009, y despues buscamos las 5 columnas que tengan varianza simialar a ésta."
   ]
  },
  {
   "cell_type": "code",
   "execution_count": null,
   "metadata": {},
   "outputs": [],
   "source": [
    "varianzas = pasajeros_por_linea.var()\n",
    "\n",
    "varianza_009 = varianzas['BSAS_LINEA_009']\n",
    "\n",
    "diferencia_varianza = np.abs(varianzas - varianza_009)\n",
    "\n",
    "columnas_mas_cercanas = diferencia_varianza.nsmallest(6).index  \n",
    "columnas_mas_cercanas = columnas_mas_cercanas[columnas_mas_cercanas != 'BSAS_LINEA_009'] \n",
    "print(f'Lineas con las varianza mas cercana a la 009: {columnas_mas_cercanas.values}')\n"
   ]
  },
  {
   "cell_type": "code",
   "execution_count": null,
   "metadata": {},
   "outputs": [],
   "source": [
    "modelo_multivariado = linear_model.LinearRegression() "
   ]
  },
  {
   "cell_type": "code",
   "execution_count": null,
   "metadata": {},
   "outputs": [],
   "source": [
    "X_mv=pasajeros_por_linea[columnas_mas_cercanas]\n",
    "y_mv=pasajeros_por_linea['BSAS_LINEA_009']\n",
    "X_train_mv, X_test_mv, y_train_mv, y_test_mv = train_test_split(X_mv, y_mv, test_size=0.2, random_state=42)"
   ]
  },
  {
   "cell_type": "code",
   "execution_count": null,
   "metadata": {},
   "outputs": [],
   "source": [
    "modelo_multivariado.fit(X_train_mv, y_train_mv)"
   ]
  },
  {
   "cell_type": "code",
   "execution_count": null,
   "metadata": {},
   "outputs": [],
   "source": [
    "y_pred_mv = modelo_multivariado.predict(X_test_mv)"
   ]
  },
  {
   "cell_type": "code",
   "execution_count": null,
   "metadata": {},
   "outputs": [],
   "source": [
    "y_test_mv = y_test_mv.values.ravel()"
   ]
  },
  {
   "cell_type": "code",
   "execution_count": null,
   "metadata": {},
   "outputs": [],
   "source": [
    "plt.figure(figsize=(10, 6))\n",
    "sns.scatterplot(x=y_test_mv, y=y_pred_mv)\n",
    "plt.plot([y_test_mv.min(), y_test_mv.max()], [y_test_mv.min(), y_test_mv.max()], 'k--', lw=3)\n",
    "plt.xlabel('Valores Reales')\n",
    "plt.ylabel('Valores Predichos')\n",
    "plt.title('Regresión Lineal Multivariada')\n",
    "plt.show()"
   ]
  },
  {
   "cell_type": "code",
   "execution_count": null,
   "metadata": {},
   "outputs": [],
   "source": [
    "mse = mean_squared_error(y_test_mv, y_pred_mv)\n",
    "mae = mean_absolute_error(y_test_mv, y_pred_mv)\n",
    "r2 = r2_score(y_test_mv, y_pred_mv)\n",
    "\n",
    "print(f'Error Cuadrático Medio: {np.sqrt(mse)}')\n",
    "print(f'Error Absoluto Medio: {mae}')\n",
    "print(f'R2: {r2}')"
   ]
  },
  {
   "cell_type": "markdown",
   "metadata": {},
   "source": [
    "#### Regresion Ridge"
   ]
  },
  {
   "cell_type": "markdown",
   "metadata": {},
   "source": [
    "Para este modelo vamos a calcular la correlación de todas las variables del dataset con nuestra variable a predecir, y vamos a tomar las 5 primeras para entrenar el modelo."
   ]
  },
  {
   "cell_type": "code",
   "execution_count": null,
   "metadata": {},
   "outputs": [],
   "source": [
    "matriz_correlacion = pasajeros_por_linea.corr()\n",
    "correlaciones = matriz_correlacion['BSAS_LINEA_009'].abs().sort_values(ascending=False)\n",
    "\n",
    "top_5_lineas = correlaciones.index[1:6] \n",
    "\n",
    "print(\"Lineas con mejor correlación con Linea 009:\", top_5_lineas)"
   ]
  },
  {
   "cell_type": "code",
   "execution_count": null,
   "metadata": {},
   "outputs": [],
   "source": [
    "dataset_modelo_ridge = pasajeros_por_linea[top_5_lineas.tolist() + ['BSAS_LINEA_009']]"
   ]
  },
  {
   "cell_type": "code",
   "execution_count": null,
   "metadata": {},
   "outputs": [],
   "source": [
    "dataset_modelo_ridge = dataset_modelo_ridge.rename(columns={'LINEA 101':'LINEA_101', 'LINEA 7':'LINEA_7', 'LINEA 107': 'LINEA_107'})"
   ]
  },
  {
   "cell_type": "code",
   "execution_count": null,
   "metadata": {},
   "outputs": [],
   "source": [
    "df_train, df_test = train_test_split(dataset_modelo_ridge, test_size=0.2, random_state=42)\n",
    "\n",
    "formula = 'BSAS_LINEA_009 ~ (LINEA_101+BSAS_LINEA_146+LINEA_7+BSAS_LINEA_024+LINEA_107)'\n",
    "y_ridge, X_ridge =  Formula(formula).get_model_matrix(df_train)"
   ]
  },
  {
   "cell_type": "markdown",
   "metadata": {},
   "source": [
    "Proponemos alphas arbitrarios para el modelo"
   ]
  },
  {
   "cell_type": "code",
   "execution_count": null,
   "metadata": {},
   "outputs": [],
   "source": [
    "alphas = np.array([0.1, 0.3, 0.5, 1, 3, 7])"
   ]
  },
  {
   "cell_type": "code",
   "execution_count": null,
   "metadata": {},
   "outputs": [],
   "source": [
    "cv = KFold(n_splits=5, random_state=42, shuffle=True) \n",
    "for alpha in alphas:\n",
    "    modeloRidge = linear_model.Ridge(alpha = alpha, fit_intercept = False)    \n",
    "    rmse = np.zeros(cv.get_n_splits()) \n",
    "\n",
    "    ind = 0\n",
    "    \n",
    "    for train_index, val_index in cv.split(X_ridge):\n",
    "        X_train, X_val, y_train, y_val = X_ridge.iloc[train_index], X_ridge.iloc[val_index], y_ridge.iloc[train_index], y_ridge.iloc[val_index]\n",
    "        modeloRidge.fit(X_train, y_train)\n",
    "\n",
    "        y_pred = modeloRidge.predict(X_val)\n",
    "        rmse[ind] = np.sqrt(mean_squared_error(y_val, y_pred))\n",
    "        ind = ind + 1\n",
    "\n",
    "    print(f\"Para alpha = {alpha:.5f} la raíz del Error Cuadratico Medio es: {rmse.mean():.5f}\")"
   ]
  },
  {
   "cell_type": "markdown",
   "metadata": {},
   "source": [
    "Hacemos una segunda corrida con valores cercanos al 7."
   ]
  },
  {
   "cell_type": "code",
   "execution_count": null,
   "metadata": {},
   "outputs": [],
   "source": [
    "alphas = np.array([5, 7, 9, 11, 13, 15])\n",
    "\n",
    "for alpha in alphas:\n",
    "    modeloRidge = linear_model.Ridge(alpha = alpha, fit_intercept = False)    \n",
    "    rmse = np.zeros(cv.get_n_splits()) \n",
    "\n",
    "    ind = 0\n",
    "\n",
    "    for train_index, val_index in cv.split(X_ridge):\n",
    "        X_train, X_val, y_train, y_val = X_ridge.iloc[train_index], X_ridge.iloc[val_index], y_ridge.iloc[train_index], y_ridge.iloc[val_index]\n",
    "        modeloRidge.fit(X_train, y_train)\n",
    "\n",
    "        y_pred = modeloRidge.predict(X_val)\n",
    "        rmse[ind] = np.sqrt(mean_squared_error(y_val, y_pred))\n",
    "        ind = ind + 1\n",
    "\n",
    "    print(f\"Para alpha = {alpha:.5f} la raiz del error cuadratico medio es: {rmse.mean():.5f}\")\n"
   ]
  },
  {
   "cell_type": "code",
   "execution_count": null,
   "metadata": {},
   "outputs": [],
   "source": [
    "alpha_optimo = 15\n",
    "\n",
    "modeloRidge = linear_model.Ridge(alpha = alpha_optimo, fit_intercept = False)    \n",
    "modeloRidge.fit(X_ridge, y_ridge)"
   ]
  },
  {
   "cell_type": "code",
   "execution_count": null,
   "metadata": {},
   "outputs": [],
   "source": [
    "y_test_ridge, X_test_ridge =  Formula(formula).get_model_matrix(df_test)\n",
    "        \n",
    "y_pred_ridge = modeloRidge.predict(X_test_ridge)"
   ]
  },
  {
   "cell_type": "code",
   "execution_count": null,
   "metadata": {},
   "outputs": [],
   "source": [
    "y_test_ridge_array = np.ravel(y_test_ridge)\n",
    "y_pred_ridge_array = np.ravel(y_pred_ridge)\n",
    "\n",
    "plt.figure(figsize=(10, 6))\n",
    "\n",
    "sns.scatterplot(x=y_test_ridge_array, y=y_pred_ridge_array)\n",
    "plt.plot([y_test_ridge_array.min(), y_test_ridge_array.max()], [y_test_ridge_array.min(), y_test_ridge_array.max()], 'k--', lw=3)\n",
    "plt.xlabel('Valores Reales')\n",
    "plt.ylabel('Valores Predichos')\n",
    "plt.title('Regresión Ridge')\n",
    "\n",
    "plt.show()"
   ]
  },
  {
   "cell_type": "code",
   "execution_count": null,
   "metadata": {},
   "outputs": [],
   "source": [
    "mse = mean_squared_error(y_test_ridge, y_pred_ridge)\n",
    "mae = mean_absolute_error(y_test_ridge, y_pred_ridge)\n",
    "r2 = r2_score(y_test_ridge, y_pred_ridge)\n",
    "\n",
    "print(f'Error Cuadrático Medio: {np.sqrt(mse)}')\n",
    "print(f'Error Absoluto Medio: {mae}')\n",
    "print(f'R2: {r2}')"
   ]
  },
  {
   "cell_type": "code",
   "execution_count": null,
   "metadata": {},
   "outputs": [],
   "source": [
    "coefs = modeloRidge.coef_[0].tolist()\n",
    "coefs = coefs[1:]"
   ]
  },
  {
   "cell_type": "code",
   "execution_count": null,
   "metadata": {},
   "outputs": [],
   "source": [
    "formula_Ridge = f'Y = {intercept:.1f} '\n",
    "for i in range(len(top_5_lineas)):\n",
    "    formula_Ridge += f'+ ({coefs[i]:.2} * {top_5_lineas[i]}) '\n",
    "\n",
    "formula_Ridge"
   ]
  }
 ],
 "metadata": {
  "kernelspec": {
   "display_name": "venv",
   "language": "python",
   "name": "python3"
  },
  "language_info": {
   "codemirror_mode": {
    "name": "ipython",
    "version": 3
   },
   "file_extension": ".py",
   "mimetype": "text/x-python",
   "name": "python",
   "nbconvert_exporter": "python",
   "pygments_lexer": "ipython3",
   "version": "3.12.3"
  }
 },
 "nbformat": 4,
 "nbformat_minor": 2
}
